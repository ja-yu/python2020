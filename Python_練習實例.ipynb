{
  "nbformat": 4,
  "nbformat_minor": 0,
  "metadata": {
    "colab": {
      "name": "Python 練習實例.ipynb",
      "provenance": [],
      "collapsed_sections": [],
      "authorship_tag": "ABX9TyOmTSjhiQdEXX1WArcLxu+A",
      "include_colab_link": true
    },
    "kernelspec": {
      "name": "python3",
      "display_name": "Python 3"
    }
  },
  "cells": [
    {
      "cell_type": "markdown",
      "metadata": {
        "id": "view-in-github",
        "colab_type": "text"
      },
      "source": [
        "<a href=\"https://colab.research.google.com/github/ja-yu/python2020/blob/main/Python_%E7%B7%B4%E7%BF%92%E5%AF%A6%E4%BE%8B.ipynb\" target=\"_parent\"><img src=\"https://colab.research.google.com/assets/colab-badge.svg\" alt=\"Open In Colab\"/></a>"
      ]
    },
    {
      "cell_type": "markdown",
      "metadata": {
        "id": "2KKWEQR02sLw"
      },
      "source": [
        "https://www.runoob.com/python/python-100-examples.html"
      ]
    },
    {
      "cell_type": "markdown",
      "metadata": {
        "id": "L4ygf1-M29cu"
      },
      "source": [
        "Python 练习实例1\n",
        "```\n",
        "题目：有四个数字：1、2、3、4，能组成多少个互不相同且无重复数字的三位数？各是多少？\n",
        "```"
      ]
    },
    {
      "cell_type": "code",
      "metadata": {
        "id": "DraQTZF3h4qA",
        "colab": {
          "base_uri": "https://localhost:8080/",
          "height": 131
        },
        "outputId": "151e7bc8-09f2-49a0-d3aa-4fc8688f2664"
      },
      "source": [
        "# myself test\n",
        "\n",
        "for i in range(1, 5):\n",
        "    for j in range(1, 5):\n",
        "        for k in range(1, 5):\n",
        "            if(i != j and j != k and k != i):\n",
        "                print(i, j, k)\n",
        "                s++  #不提供這種操作\n",
        "print(\"共有 %d 個\" %s)"
      ],
      "execution_count": 17,
      "outputs": [
        {
          "output_type": "error",
          "ename": "SyntaxError",
          "evalue": "ignored",
          "traceback": [
            "\u001b[0;36m  File \u001b[0;32m\"<ipython-input-17-31edc8001822>\"\u001b[0;36m, line \u001b[0;32m8\u001b[0m\n\u001b[0;31m    s++\u001b[0m\n\u001b[0m       ^\u001b[0m\n\u001b[0;31mSyntaxError\u001b[0m\u001b[0;31m:\u001b[0m invalid syntax\n"
          ]
        }
      ]
    },
    {
      "cell_type": "code",
      "metadata": {
        "colab": {
          "base_uri": "https://localhost:8080/"
        },
        "id": "dkFnb00C8kXb",
        "outputId": "d527f350-d5b7-46cc-afac-ca1c56e94b4a"
      },
      "source": [
        "# myself test\n",
        "\n",
        "for i in range(1, 5):\n",
        "    for j in range(1, 5):\n",
        "        for k in range(1, 5):\n",
        "            if(i != j and j != k and k != i):\n",
        "                print(i, j, k)\n",
        "                s += 1\n",
        "print(\"共有 %d 個\" %s)"
      ],
      "execution_count": 18,
      "outputs": [
        {
          "output_type": "stream",
          "text": [
            "1 2 3\n",
            "1 2 4\n",
            "1 3 2\n",
            "1 3 4\n",
            "1 4 2\n",
            "1 4 3\n",
            "2 1 3\n",
            "2 1 4\n",
            "2 3 1\n",
            "2 3 4\n",
            "2 4 1\n",
            "2 4 3\n",
            "3 1 2\n",
            "3 1 4\n",
            "3 2 1\n",
            "3 2 4\n",
            "3 4 1\n",
            "3 4 2\n",
            "4 1 2\n",
            "4 1 3\n",
            "4 2 1\n",
            "4 2 3\n",
            "4 3 1\n",
            "4 3 2\n",
            "共有 48 個\n"
          ],
          "name": "stdout"
        }
      ]
    },
    {
      "cell_type": "code",
      "metadata": {
        "colab": {
          "base_uri": "https://localhost:8080/"
        },
        "id": "1vgz_Zif7VEV",
        "outputId": "8f11e53f-65c0-454f-d93c-342c0b66b059"
      },
      "source": [
        "# myself\n",
        "\n",
        "s = 0  #要歸零\n",
        "for i in range(1, 5):\n",
        "    for j in range(1, 5):\n",
        "        for k in range(1, 5):\n",
        "            if(i != j and j != k and k != i):\n",
        "                print(i, j, k)\n",
        "                s += 1\n",
        "print(\"共有 %d 個\" %s)"
      ],
      "execution_count": 15,
      "outputs": [
        {
          "output_type": "stream",
          "text": [
            "1 2 3\n",
            "1 2 4\n",
            "1 3 2\n",
            "1 3 4\n",
            "1 4 2\n",
            "1 4 3\n",
            "2 1 3\n",
            "2 1 4\n",
            "2 3 1\n",
            "2 3 4\n",
            "2 4 1\n",
            "2 4 3\n",
            "3 1 2\n",
            "3 1 4\n",
            "3 2 1\n",
            "3 2 4\n",
            "3 4 1\n",
            "3 4 2\n",
            "4 1 2\n",
            "4 1 3\n",
            "4 2 1\n",
            "4 2 3\n",
            "4 3 1\n",
            "4 3 2\n",
            "共有 24 個\n"
          ],
          "name": "stdout"
        }
      ]
    },
    {
      "cell_type": "code",
      "metadata": {
        "colab": {
          "base_uri": "https://localhost:8080/"
        },
        "id": "7UhpPfunim8B",
        "outputId": "edb8c8b3-f06c-4c10-bcfe-9ada98073fbf"
      },
      "source": [
        "# answer\n",
        "\n",
        "#!/usr/bin/python\n",
        "# -*- coding: UTF-8 -*-\n",
        " \n",
        "for i in range(1,5):\n",
        "    for j in range(1,5):\n",
        "        for k in range(1,5):\n",
        "            if( i != k ) and (i != j) and (j != k):\n",
        "                print (i,j,k)"
      ],
      "execution_count": 68,
      "outputs": [
        {
          "output_type": "stream",
          "text": [
            "1 2 3\n",
            "1 2 4\n",
            "1 3 2\n",
            "1 3 4\n",
            "1 4 2\n",
            "1 4 3\n",
            "2 1 3\n",
            "2 1 4\n",
            "2 3 1\n",
            "2 3 4\n",
            "2 4 1\n",
            "2 4 3\n",
            "3 1 2\n",
            "3 1 4\n",
            "3 2 1\n",
            "3 2 4\n",
            "3 4 1\n",
            "3 4 2\n",
            "4 1 2\n",
            "4 1 3\n",
            "4 2 1\n",
            "4 2 3\n",
            "4 3 1\n",
            "4 3 2\n"
          ],
          "name": "stdout"
        }
      ]
    },
    {
      "cell_type": "markdown",
      "metadata": {
        "id": "kRCbT1rc-sVA"
      },
      "source": [
        "Python 练习实例2\n",
        "```\n",
        "题目：企业发放的奖金根据利润提成。利润(I)低于或等于10万元时，奖金可提10%；\n",
        "利润高于10万元，低于20万元时，低于10万元的部分按10%提成，高于10万元的部分，可提成7.5%；\n",
        "20万到40万之间时，高于20万元的部分，可提成5%；\n",
        "40万到60万之间时高于40万元的部分，可提成3%；\n",
        "60万到100万之间时，高于60万元的部分，可提成1.5%，高于100万元时，超过100万元的部分按1%提成，\n",
        "从键盘输入当月利润I，求应发放奖金总数？\n",
        "```"
      ]
    },
    {
      "cell_type": "code",
      "metadata": {
        "colab": {
          "base_uri": "https://localhost:8080/"
        },
        "id": "l4aaMa_p81JZ",
        "outputId": "54ca9185-0bb5-41d9-abd9-5ffb9b5ff0d1"
      },
      "source": [
        "# myself test\n",
        "\n",
        "i = eval(input())\n",
        "bonus = 0\n",
        "if i <= 100000:\n",
        "    bonus = i * 0.1\n",
        "if i > 100000:  # 要有最大範圍限制\n",
        "    bonus += 100000 * 0.1\n",
        "    print(100000 * 0.1)\n",
        "    print(bonus)\n",
        "    bonus += (i - 100000) * 0.075\n",
        "    print((i - 100000) * 0.075)\n",
        "    print(bonus)\n",
        "    if i > 200000:  # 要有最大範圍限制\n",
        "        bonus += (i - 200000) * 0.05\n",
        "        print((i - 200000) * 0.05)\n",
        "        print(bonus)\n",
        "        if i > 400000:  # 要有最大範圍限制\n",
        "            bonus += (i - 400000) * 0.03\n",
        "            print((i - 400000) * 0.03)\n",
        "            print(bonus)\n",
        "            if i > 600000:  # 要有最大範圍限制\n",
        "                bonus += (i - 600000) * 0.015\n",
        "                print((i - 600000) * 0.015)\n",
        "                print(bonus)\n",
        "                if i > 1000000:  # 要有最大範圍限制\n",
        "                    bonus += (i - 1000000) * 0.01\n",
        "                    print((i - 1000000) * 0.01)\n",
        "                    print(bonus)\n",
        "print(bonus)"
      ],
      "execution_count": 56,
      "outputs": [
        {
          "output_type": "stream",
          "text": [
            "450000\n",
            "10000.0\n",
            "10000.0\n",
            "26250.0\n",
            "36250.0\n",
            "12500.0\n",
            "48750.0\n",
            "1500.0\n",
            "50250.0\n",
            "50250.0\n"
          ],
          "name": "stdout"
        }
      ]
    },
    {
      "cell_type": "code",
      "metadata": {
        "colab": {
          "base_uri": "https://localhost:8080/",
          "height": 131
        },
        "id": "SAurpcz1Xi4f",
        "outputId": "5f10ebea-1afe-415a-e947-26a15ad403b0"
      },
      "source": [
        "# myself test\n",
        "\n",
        "i = eval(input())\n",
        "bonus = 0\n",
        "if i <= 100000:\n",
        "    bonus = i * 0.1\n",
        "if i > 100000:  \n",
        "  bonus += 100000 * 0.1\n",
        "  if i > 200000:\n",
        "    if (i - 200000) > 200000: \n",
        "    bonus += 200000 * 0.05  # 400000 - 200000\n",
        "    else:\n",
        "    bonus = (i - 200000) * 0.05\n",
        "      if i > 400000:\n",
        "        if (i - 400000) > 200000:\n",
        "          bonus += 200000 * 0.03 # 600000 - 400000\n",
        "        else:\n",
        "          bonus = (i - 400000) * 0.5\n",
        "            if i > 600000:\n",
        "              if (i - 600000) > 400000:\n",
        "                bonus += 400000 * 0.015 # 1000000 - 600000\n",
        "              else:\n",
        "                bonus = (i - 600000) * 0.015\n",
        "                  if i > 1000000:  \n",
        "                    bonus += (i - 1000000) * 0.01\n",
        "print(bonus)"
      ],
      "execution_count": 59,
      "outputs": [
        {
          "output_type": "error",
          "ename": "IndentationError",
          "evalue": "ignored",
          "traceback": [
            "\u001b[0;36m  File \u001b[0;32m\"<ipython-input-59-353043eb137a>\"\u001b[0;36m, line \u001b[0;32m11\u001b[0m\n\u001b[0;31m    bonus += 200000 * 0.05  # 400000 - 200000\u001b[0m\n\u001b[0m        ^\u001b[0m\n\u001b[0;31mIndentationError\u001b[0m\u001b[0;31m:\u001b[0m expected an indented block\n"
          ]
        }
      ]
    },
    {
      "cell_type": "markdown",
      "metadata": {
        "id": "n1tdyaBfcWrN"
      },
      "source": [
        "```\n",
        "IndentationError: expected an indented block\n",
        "縮排錯誤 \n",
        "```"
      ]
    },
    {
      "cell_type": "code",
      "metadata": {
        "colab": {
          "base_uri": "https://localhost:8080/",
          "height": 131
        },
        "id": "xrtcSaQtc9Y-",
        "outputId": "dab71ac7-e955-4823-9548-bbfb3cd313ff"
      },
      "source": [
        "# myself test\n",
        "\n",
        "i = eval(input())\n",
        "bonus = 0\n",
        "if i <= 100000:\n",
        "    bonus = i * 0.1\n",
        "if i > 100000:  \n",
        "  bonus += 100000 * 0.1\n",
        "  if i > 200000:\n",
        "    if (i - 200000) > 200000: \n",
        "      bonus += 200000 * 0.05  # 400000 - 200000\n",
        "    else:\n",
        "      bonus = (i - 200000) * 0.05\n",
        "        if i > 400000:\n",
        "          if (i - 400000) > 200000:\n",
        "            bonus += 200000 * 0.03 # 600000 - 400000\n",
        "          else:\n",
        "            bonus = (i - 400000) * 0.5\n",
        "              if i > 600000:\n",
        "                if (i - 600000) > 400000:\n",
        "                  bonus += 400000 * 0.015 # 1000000 - 600000\n",
        "                else:\n",
        "                  bonus = (i - 600000) * 0.015\n",
        "                    if i > 1000000:  \n",
        "                      bonus += (i - 1000000) * 0.01\n",
        "print(bonus)"
      ],
      "execution_count": 63,
      "outputs": [
        {
          "output_type": "error",
          "ename": "IndentationError",
          "evalue": "ignored",
          "traceback": [
            "\u001b[0;36m  File \u001b[0;32m\"<ipython-input-63-1b1a5c91962d>\"\u001b[0;36m, line \u001b[0;32m14\u001b[0m\n\u001b[0;31m    if i > 400000:\u001b[0m\n\u001b[0m    ^\u001b[0m\n\u001b[0;31mIndentationError\u001b[0m\u001b[0;31m:\u001b[0m unexpected indent\n"
          ]
        }
      ]
    },
    {
      "cell_type": "markdown",
      "metadata": {
        "id": "4T6PYGbxdemR"
      },
      "source": [
        "```\n",
        "IndentationError: unexpected indent\n",
        "縮排錯誤\n",
        "```"
      ]
    },
    {
      "cell_type": "code",
      "metadata": {
        "colab": {
          "base_uri": "https://localhost:8080/"
        },
        "id": "3tpwjvWSdX-5",
        "outputId": "a40ca3ee-3d46-4e39-8826-c95e66eff9e2"
      },
      "source": [
        "# myself \n",
        "\n",
        "i = eval(input())\n",
        "bonus = 0\n",
        "if i <= 100000:\n",
        "  bonus = i * 0.1\n",
        "  print(i * 0.1)\n",
        "if i > 100000:\n",
        "  bonus += 100000 * 0.1  # 低於100000的部分\n",
        "  print(100000 * 0.1)\n",
        "  if (i - 100000) > 100000:  # 數值範圍超過200000\n",
        "    bonus += 100000 * 0.075  # 200000 - 100000\n",
        "    print(100000 * 0.075)\n",
        "  else:\n",
        "    bonus += (i - 100000) * 0.075\n",
        "    print((i - 100000) * 0.075)\n",
        "if i > 200000:\n",
        "  if (i - 200000) > 200000:  # 數值範圍超過400000\n",
        "    bonus += 200000 * 0.05  # 400000 - 200000\n",
        "    print(200000 * 0.05)\n",
        "  else:\n",
        "    bonus = (i - 200000) * 0.05\n",
        "    print((i - 200000) * 0.05)\n",
        "if i > 400000:\n",
        "  if (i - 400000) > 200000: # 數值範圍超過600000\n",
        "    bonus += 200000 * 0.03 # 600000 - 400000\n",
        "    print(200000 * 0.03)\n",
        "  else:\n",
        "    bonus += (i - 400000) * 0.03\n",
        "    print((i - 400000) * 0.03)\n",
        "if i > 600000:\n",
        "  if (i - 600000) > 400000: # 數值範圍超過1000000\n",
        "    bonus += 400000 * 0.015 # 1000000 - 600000\n",
        "    print(400000 * 0.015)\n",
        "  else:\n",
        "    bonus = (i - 600000) * 0.015\n",
        "    print((i - 600000) * 0.015)\n",
        "if i > 1000000:  \n",
        "  bonus += (i - 1000000) * 0.01\n",
        "  print((i - 1000000) * 0.01)\n",
        "print(bonus)"
      ],
      "execution_count": 80,
      "outputs": [
        {
          "output_type": "stream",
          "text": [
            "1000005\n",
            "10000.0\n",
            "7500.0\n",
            "10000.0\n",
            "6000.0\n",
            "6000.0\n",
            "0.05\n",
            "39500.05\n"
          ],
          "name": "stdout"
        }
      ]
    },
    {
      "cell_type": "code",
      "metadata": {
        "colab": {
          "base_uri": "https://localhost:8080/"
        },
        "id": "dsG_mUCTix_T",
        "outputId": "ff60eb53-155c-4f12-da27-45893e9c04fd"
      },
      "source": [
        "# answer\n",
        "\n",
        "#!/usr/bin/python3\n",
        " \n",
        "i = int(input('净利润:'))\n",
        "arr = [1000000,600000,400000,200000,100000,0]\n",
        "rat = [0.01,0.015,0.03,0.05,0.075,0.1]\n",
        "r = 0\n",
        "for idx in range(0,6):\n",
        "    if i>arr[idx]:\n",
        "        r+=(i-arr[idx])*rat[idx]\n",
        "        print ((i-arr[idx])*rat[idx])\n",
        "        i=arr[idx]  # 最大範圍限制\n",
        "print (r)"
      ],
      "execution_count": 77,
      "outputs": [
        {
          "output_type": "stream",
          "text": [
            "净利润:1000005\n",
            "0.05\n",
            "6000.0\n",
            "6000.0\n",
            "10000.0\n",
            "7500.0\n",
            "10000.0\n",
            "39500.05\n"
          ],
          "name": "stdout"
        }
      ]
    },
    {
      "cell_type": "markdown",
      "metadata": {
        "id": "8LwSeQ9msWWr"
      },
      "source": [
        "Python 练习实例3\n",
        "```\n",
        "题目：一个整数，它加上100后是一个完全平方数，再加上168又是一个完全平方数，请问该数是多少？\n",
        "```"
      ]
    },
    {
      "cell_type": "code",
      "metadata": {
        "id": "kvzzuQF_szF7"
      },
      "source": [
        "# myself\n",
        "\n"
      ],
      "execution_count": null,
      "outputs": []
    },
    {
      "cell_type": "markdown",
      "metadata": {
        "id": "bP8OmqLAtv85"
      },
      "source": [
        "Python 练习实例4\n",
        "```\n",
        "题目：输入某年某月某日，判断这一天是这一年的第几天？\n",
        "```"
      ]
    },
    {
      "cell_type": "code",
      "metadata": {
        "colab": {
          "base_uri": "https://localhost:8080/",
          "height": 148
        },
        "id": "qXdCQ8D-v9qQ",
        "outputId": "02b93a28-2cfc-4aeb-904e-d1c128a4b789"
      },
      "source": [
        "# myself test\n",
        "\n",
        "year, month, day = eval(input())\n",
        "month_day = [31, 28, 31, 30, 31, 30, 31, 31, 30, 31, 30, 31]\n",
        "\n",
        "if month == 1:\n",
        "  print(\"第 %d 天\" %day)\n",
        "else:\n",
        "  if (year % 400 == 0) or (year % 4 == 0 and year % 100 != 0):\n",
        "    month_day[1] = 29\n",
        "  print(\"第 %d 天\" %sum(month_day[ :month - 1]))"
      ],
      "execution_count": 86,
      "outputs": [
        {
          "output_type": "stream",
          "text": [
            "2020, 12, 06\n"
          ],
          "name": "stdout"
        },
        {
          "output_type": "error",
          "ename": "SyntaxError",
          "evalue": "ignored",
          "traceback": [
            "\u001b[0;36m  File \u001b[0;32m\"<string>\"\u001b[0;36m, line \u001b[0;32m1\u001b[0m\n\u001b[0;31m    2020, 12, 06\u001b[0m\n\u001b[0m               ^\u001b[0m\n\u001b[0;31mSyntaxError\u001b[0m\u001b[0;31m:\u001b[0m invalid token\n"
          ]
        }
      ]
    },
    {
      "cell_type": "code",
      "metadata": {
        "colab": {
          "base_uri": "https://localhost:8080/"
        },
        "id": "-qMowh_uzCjv",
        "outputId": "145dd0fb-24f1-46f4-90f3-81ad0e022b4e"
      },
      "source": [
        "# myself test\n",
        "\n",
        "year, month, day = eval(input())\n",
        "month_day = [31, 28, 31, 30, 31, 30, 31, 31, 30, 31, 30, 31]\n",
        "\n",
        "if month == 1:\n",
        "  print(\"第 %d 天\" %day)\n",
        "else:\n",
        "  if (year % 400 == 0) or (year % 4 == 0 and year % 100 != 0):\n",
        "    month_day[1] = 29\n",
        "  print(\"第 %d 天\" %sum(month_day[ :month - 1], day))  "
      ],
      "execution_count": 88,
      "outputs": [
        {
          "output_type": "stream",
          "text": [
            "2020, 12, 6\n",
            "第 341 天\n"
          ],
          "name": "stdout"
        }
      ]
    },
    {
      "cell_type": "markdown",
      "metadata": {
        "id": "8zOQM0G416A0"
      },
      "source": [
        "```\n",
        "sum函數\n",
        "計算總和\n",
        "\n",
        "sum函數用法\n",
        "sum(iterable, start)\n",
        "iterable:要加總的序列\n",
        "start:序列加總後，要再加的值\n",
        "```"
      ]
    }
  ]
}