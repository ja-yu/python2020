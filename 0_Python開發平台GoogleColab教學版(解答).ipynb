{
  "nbformat": 4,
  "nbformat_minor": 0,
  "metadata": {
    "colab": {
      "name": "0_Python開發平台GoogleColab教學版(解答).ipynb",
      "provenance": [],
      "collapsed_sections": [],
      "include_colab_link": true
    },
    "kernelspec": {
      "name": "python3",
      "display_name": "Python 3"
    }
  },
  "cells": [
    {
      "cell_type": "markdown",
      "metadata": {
        "id": "view-in-github",
        "colab_type": "text"
      },
      "source": [
        "<a href=\"https://colab.research.google.com/github/ja-yu/python2020/blob/main/0_Python%E9%96%8B%E7%99%BC%E5%B9%B3%E5%8F%B0GoogleColab%E6%95%99%E5%AD%B8%E7%89%88(%E8%A7%A3%E7%AD%94).ipynb\" target=\"_parent\"><img src=\"https://colab.research.google.com/assets/colab-badge.svg\" alt=\"Open In Colab\"/></a>"
      ]
    },
    {
      "cell_type": "markdown",
      "metadata": {
        "id": "F9zaHvCiBL6Q"
      },
      "source": [
        "# 使用Google Colab學習Python與人工智慧\n",
        "```\n",
        "使用Google Colab平台學習Python程式設計\n",
        "使用Google Colab平台學習Python資料分析技術\n",
        "使用Google Colab平台學習機器學習(machine Learning)\n",
        "使用Google Colab平台學習深度學習(deep Learning)\n",
        "```\n",
        "# 課程內容\n",
        "```\n",
        "[1]Python開發環境:Google Colab\n",
        "Google Colab的Python開發環境暨使用技術\n",
        "[1]登入 註冊與使用\n",
        "[2]認識Colab環境\n",
        "\n",
        "[3]執行別人github上的XX.ipynb檔\n",
        "[4]儲存到你的GITHUB\n",
        "[5]下載程式(XX.py   XX.ipynb)到本地端\n",
        "\n",
        "[6]上傳程式到GOOGLE drive, 從Google drive 開啟xxx.ipynb\n",
        "\n",
        "[7]上傳檔案到colab\n",
        "[8]執行colab上的xxx.py程式\n",
        "\n",
        "[9]把整個別人分享的github  git clone到你的colab\n",
        "[10]載入你的google drive 到colab\n",
        "\n",
        "```\n",
        "\n",
        "# Google Colab\n",
        "```\n",
        "https://colab.research.google.com/\n",
        "```\n",
        "```\n",
        "Google Colab is a free cloud service and now it supports free GPU!\n",
        "\n",
        "You can;\n",
        "improve your Python programming language coding skills.\n",
        "develop deep learning applications using popular libraries such as Keras,\n",
        "TensorFlow, PyTorch, OpenAI gymand OpenCV.\n",
        "The most important feature that distinguishes Colab from other free cloud services is;\n",
        "Colab provides GPU and is totally free.\n",
        "```\n",
        "# 確認Google Colab上的套件使用版本\n",
        "```\n",
        "import pandas as pd\n",
        "print(\"pandas version: %s\" % pd.__version__)\n",
        "\n",
        "import matplotlib\n",
        "print(\"matplotlib version: %s\" % matplotlib.__version__)\n",
        "\n",
        "import numpy as np\n",
        "print(\"numpy version: %s\" % np.__version__)\n",
        "\n",
        "import sklearn\n",
        "print(\"scikit-learn version: %s\" % sklearn.__version__)\n",
        "\n",
        "import tensorflow as tf\n",
        "print(\"tensorflow version: %s\" % tf.__version__)\n",
        "\n",
        "import torch\n",
        "print(\"PyTorch version: %s\" %torch.__version__)\n",
        "print(\"2020年3月PyTorch version最新版本 是1.4 請參閱https://pytorch.org/\")\n",
        "```\n"
      ]
    },
    {
      "cell_type": "code",
      "metadata": {
        "id": "c9Iy7E4t881_",
        "colab": {
          "base_uri": "https://localhost:8080/"
        },
        "outputId": "f9b206cf-1e35-47c7-c5f6-2860488d1d65"
      },
      "source": [
        "import pandas as pd  \n",
        "print(\"pandas version: %s\" % pd.__version__)  \n",
        " \n",
        "import matplotlib  \n",
        "print(\"matplotlib version: %s\" % matplotlib.__version__)\n",
        " \n",
        "import numpy as np  \n",
        "print(\"numpy version: %s\" % np.__version__)\n",
        " \n",
        "import sklearn  \n",
        "print(\"scikit-learn version: %s\" % sklearn.__version__)\n",
        " \n",
        "import tensorflow as tf   \n",
        "print(\"tensorflow version: %s\" % tf.__version__)\n",
        " \n",
        "import torch\n",
        "print(\"PyTorch version: %s\" %torch.__version__)\n",
        "print(\"2020年3月PyTorch version最新版本 是1.4 請參閱https://pytorch.org/\")"
      ],
      "execution_count": null,
      "outputs": [
        {
          "output_type": "stream",
          "text": [
            "pandas version: 1.1.4\n",
            "matplotlib version: 3.2.2\n",
            "numpy version: 1.18.5\n",
            "scikit-learn version: 0.22.2.post1\n",
            "tensorflow version: 2.3.0\n",
            "PyTorch version: 1.7.0+cu101\n",
            "2020年3月PyTorch version最新版本 是1.4 請參閱https://pytorch.org/\n"
          ],
          "name": "stdout"
        }
      ]
    },
    {
      "cell_type": "markdown",
      "metadata": {
        "id": "gM4twsJ1cE0f"
      },
      "source": [
        "# 我的筆記\n",
        "\n",
        "## 引用套件\n",
        "```\n",
        "import pandas(套件) as pd(小名)\n",
        "\n",
        "用法pd.xxx\n",
        "```\n",
        "## 套件\n",
        "```\n",
        "pandas\n",
        "是Python程式語言的用於數據操縱和分析的軟體庫\n",
        "特別是，它提供操縱數值表格和時間序列的資料結構和運算操作。\n",
        "\n",
        "matplotlib\n",
        "資料視覺化\n",
        "是Python程式語言及其數值數學擴展包NumPy的可視化操作界面。\n",
        "它利用通用的圖形用戶界面工具包，如Tkinter, wxPython, Qt或GTK+，\n",
        "向應用程式嵌入式繪圖提供了應用程式接口（API）。\n",
        "此外，matplotlib還有一個基於圖像處理庫（如開放圖形庫OpenGL）的pylab接口，\n",
        "其設計與MATLAB非常類似。SciPy就是用matplotlib進行圖形繪製。\n",
        "\n",
        "numpy\n",
        "是Python語言的一個擴充程式庫。\n",
        "支援高階大量的維度陣列與矩陣運算，\n",
        "此外也針對陣列運算提供大量的數學函式函式庫。\n",
        "\n",
        "scikit-learn\n",
        "曾叫做scikits.learn還叫做sklearn\n",
        "是用於Python程式語言的自由軟體機器學習庫\n",
        "它的特徵是具有各種分類、回歸和聚類算法，包括支持向量機、隨機森林、梯度提升、k-平均聚類和DBSCAN，\n",
        "它被設計協同於Python數值和科學庫NumPy和SciPy。\n",
        "\n",
        "tensorflow\n",
        "是一個開源軟體庫，用於各種感知和語言理解任務的機器學習。\n",
        "目前被50個團隊用於研究和生產許多Google商業產品，如語音辨識、Gmail、Google 相簿和搜尋，\n",
        "其中許多產品曾使用過其前任軟體DistBelief。\n",
        "\n",
        "TensorFlow最初由Google大腦團隊開發，用於Google的研究和生產，於2015年11月9日在Apache 2.0開源許可證下發布。\n",
        "\n",
        "PyTorch\n",
        "機器學習庫\n",
        "基於Torch，底層由C++實現，應用於人工智慧領域，如自然語言處理。\n",
        "它最初由Facebook的人工智慧研究團隊開發，並且被用於Uber的概率編程軟體Pyro。\n",
        "\n",
        "PyTorch主要有兩大特徵：\n",
        "\n",
        "類似於NumPy的張量計算，可使用GPU加速；\n",
        "基於帶自動微分系統的深度神經網路。\n",
        "\n",
        "PyTorch包括torch.nn、torch.optim等子模組\n",
        "```"
      ]
    },
    {
      "cell_type": "markdown",
      "metadata": {
        "id": "OU47GH5j4eoK"
      },
      "source": [
        "## 查看版本\r\n",
        "```\r\n",
        "__version__\r\n",
        "\r\n",
        "用法 套件.__version__\r\n",
        "```"
      ]
    }
  ]
}