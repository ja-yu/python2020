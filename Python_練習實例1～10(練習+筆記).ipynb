{
  "nbformat": 4,
  "nbformat_minor": 0,
  "metadata": {
    "colab": {
      "name": "Python 練習實例1～10(練習+筆記).ipynb",
      "provenance": [],
      "collapsed_sections": []
    },
    "kernelspec": {
      "name": "python3",
      "display_name": "Python 3"
    }
  },
  "cells": [
    {
      "cell_type": "markdown",
      "metadata": {
        "id": "2KKWEQR02sLw"
      },
      "source": [
        "https://www.runoob.com/python/python-100-examples.html"
      ]
    },
    {
      "cell_type": "markdown",
      "metadata": {
        "id": "L4ygf1-M29cu"
      },
      "source": [
        "Python 练习实例1\n",
        "```\n",
        "题目：有四个数字：1、2、3、4，能组成多少个互不相同且无重复数字的三位数？各是多少？\n",
        "```"
      ]
    },
    {
      "cell_type": "code",
      "metadata": {
        "id": "DraQTZF3h4qA",
        "colab": {
          "base_uri": "https://localhost:8080/",
          "height": 131
        },
        "outputId": "151e7bc8-09f2-49a0-d3aa-4fc8688f2664"
      },
      "source": [
        "# myself test\n",
        "\n",
        "for i in range(1, 5):\n",
        "    for j in range(1, 5):\n",
        "        for k in range(1, 5):\n",
        "            if(i != j and j != k and k != i):\n",
        "                print(i, j, k)\n",
        "                s++  #不提供這種操作\n",
        "print(\"共有 %d 個\" %s)"
      ],
      "execution_count": null,
      "outputs": [
        {
          "output_type": "error",
          "ename": "SyntaxError",
          "evalue": "ignored",
          "traceback": [
            "\u001b[0;36m  File \u001b[0;32m\"<ipython-input-17-31edc8001822>\"\u001b[0;36m, line \u001b[0;32m8\u001b[0m\n\u001b[0;31m    s++\u001b[0m\n\u001b[0m       ^\u001b[0m\n\u001b[0;31mSyntaxError\u001b[0m\u001b[0;31m:\u001b[0m invalid syntax\n"
          ]
        }
      ]
    },
    {
      "cell_type": "code",
      "metadata": {
        "colab": {
          "base_uri": "https://localhost:8080/"
        },
        "id": "dkFnb00C8kXb",
        "outputId": "d527f350-d5b7-46cc-afac-ca1c56e94b4a"
      },
      "source": [
        "# myself test\n",
        "\n",
        "for i in range(1, 5):\n",
        "    for j in range(1, 5):\n",
        "        for k in range(1, 5):\n",
        "            if(i != j and j != k and k != i):\n",
        "                print(i, j, k)\n",
        "                s += 1\n",
        "print(\"共有 %d 個\" %s)"
      ],
      "execution_count": null,
      "outputs": [
        {
          "output_type": "stream",
          "text": [
            "1 2 3\n",
            "1 2 4\n",
            "1 3 2\n",
            "1 3 4\n",
            "1 4 2\n",
            "1 4 3\n",
            "2 1 3\n",
            "2 1 4\n",
            "2 3 1\n",
            "2 3 4\n",
            "2 4 1\n",
            "2 4 3\n",
            "3 1 2\n",
            "3 1 4\n",
            "3 2 1\n",
            "3 2 4\n",
            "3 4 1\n",
            "3 4 2\n",
            "4 1 2\n",
            "4 1 3\n",
            "4 2 1\n",
            "4 2 3\n",
            "4 3 1\n",
            "4 3 2\n",
            "共有 48 個\n"
          ],
          "name": "stdout"
        }
      ]
    },
    {
      "cell_type": "code",
      "metadata": {
        "colab": {
          "base_uri": "https://localhost:8080/"
        },
        "id": "1vgz_Zif7VEV",
        "outputId": "8f11e53f-65c0-454f-d93c-342c0b66b059"
      },
      "source": [
        "# myself\n",
        "\n",
        "s = 0  #要歸零\n",
        "for i in range(1, 5):\n",
        "    for j in range(1, 5):\n",
        "        for k in range(1, 5):\n",
        "            if(i != j and j != k and k != i):\n",
        "                print(i, j, k)\n",
        "                s += 1\n",
        "print(\"共有 %d 個\" %s)"
      ],
      "execution_count": null,
      "outputs": [
        {
          "output_type": "stream",
          "text": [
            "1 2 3\n",
            "1 2 4\n",
            "1 3 2\n",
            "1 3 4\n",
            "1 4 2\n",
            "1 4 3\n",
            "2 1 3\n",
            "2 1 4\n",
            "2 3 1\n",
            "2 3 4\n",
            "2 4 1\n",
            "2 4 3\n",
            "3 1 2\n",
            "3 1 4\n",
            "3 2 1\n",
            "3 2 4\n",
            "3 4 1\n",
            "3 4 2\n",
            "4 1 2\n",
            "4 1 3\n",
            "4 2 1\n",
            "4 2 3\n",
            "4 3 1\n",
            "4 3 2\n",
            "共有 24 個\n"
          ],
          "name": "stdout"
        }
      ]
    },
    {
      "cell_type": "code",
      "metadata": {
        "colab": {
          "base_uri": "https://localhost:8080/"
        },
        "id": "7UhpPfunim8B",
        "outputId": "edb8c8b3-f06c-4c10-bcfe-9ada98073fbf"
      },
      "source": [
        "# answer\n",
        "\n",
        "#!/usr/bin/python\n",
        "# -*- coding: UTF-8 -*-\n",
        " \n",
        "for i in range(1,5):\n",
        "    for j in range(1,5):\n",
        "        for k in range(1,5):\n",
        "            if( i != k ) and (i != j) and (j != k):\n",
        "                print (i,j,k)"
      ],
      "execution_count": null,
      "outputs": [
        {
          "output_type": "stream",
          "text": [
            "1 2 3\n",
            "1 2 4\n",
            "1 3 2\n",
            "1 3 4\n",
            "1 4 2\n",
            "1 4 3\n",
            "2 1 3\n",
            "2 1 4\n",
            "2 3 1\n",
            "2 3 4\n",
            "2 4 1\n",
            "2 4 3\n",
            "3 1 2\n",
            "3 1 4\n",
            "3 2 1\n",
            "3 2 4\n",
            "3 4 1\n",
            "3 4 2\n",
            "4 1 2\n",
            "4 1 3\n",
            "4 2 1\n",
            "4 2 3\n",
            "4 3 1\n",
            "4 3 2\n"
          ],
          "name": "stdout"
        }
      ]
    },
    {
      "cell_type": "markdown",
      "metadata": {
        "id": "kRCbT1rc-sVA"
      },
      "source": [
        "Python 练习实例2\n",
        "```\n",
        "题目：企业发放的奖金根据利润提成。利润(I)低于或等于10万元时，奖金可提10%；\n",
        "利润高于10万元，低于20万元时，低于10万元的部分按10%提成，高于10万元的部分，可提成7.5%；\n",
        "20万到40万之间时，高于20万元的部分，可提成5%；\n",
        "40万到60万之间时高于40万元的部分，可提成3%；\n",
        "60万到100万之间时，高于60万元的部分，可提成1.5%，高于100万元时，超过100万元的部分按1%提成，\n",
        "从键盘输入当月利润I，求应发放奖金总数？\n",
        "```"
      ]
    },
    {
      "cell_type": "code",
      "metadata": {
        "colab": {
          "base_uri": "https://localhost:8080/"
        },
        "id": "l4aaMa_p81JZ",
        "outputId": "54ca9185-0bb5-41d9-abd9-5ffb9b5ff0d1"
      },
      "source": [
        "# myself test\n",
        "\n",
        "i = eval(input())\n",
        "bonus = 0\n",
        "if i <= 100000:\n",
        "    bonus = i * 0.1\n",
        "if i > 100000:  # 要有最大範圍限制\n",
        "    bonus += 100000 * 0.1\n",
        "    print(100000 * 0.1)\n",
        "    print(bonus)\n",
        "    bonus += (i - 100000) * 0.075\n",
        "    print((i - 100000) * 0.075)\n",
        "    print(bonus)\n",
        "    if i > 200000:  # 要有最大範圍限制\n",
        "        bonus += (i - 200000) * 0.05\n",
        "        print((i - 200000) * 0.05)\n",
        "        print(bonus)\n",
        "        if i > 400000:  # 要有最大範圍限制\n",
        "            bonus += (i - 400000) * 0.03\n",
        "            print((i - 400000) * 0.03)\n",
        "            print(bonus)\n",
        "            if i > 600000:  # 要有最大範圍限制\n",
        "                bonus += (i - 600000) * 0.015\n",
        "                print((i - 600000) * 0.015)\n",
        "                print(bonus)\n",
        "                if i > 1000000:  # 要有最大範圍限制\n",
        "                    bonus += (i - 1000000) * 0.01\n",
        "                    print((i - 1000000) * 0.01)\n",
        "                    print(bonus)\n",
        "print(bonus)"
      ],
      "execution_count": null,
      "outputs": [
        {
          "output_type": "stream",
          "text": [
            "450000\n",
            "10000.0\n",
            "10000.0\n",
            "26250.0\n",
            "36250.0\n",
            "12500.0\n",
            "48750.0\n",
            "1500.0\n",
            "50250.0\n",
            "50250.0\n"
          ],
          "name": "stdout"
        }
      ]
    },
    {
      "cell_type": "code",
      "metadata": {
        "colab": {
          "base_uri": "https://localhost:8080/",
          "height": 131
        },
        "id": "SAurpcz1Xi4f",
        "outputId": "5f10ebea-1afe-415a-e947-26a15ad403b0"
      },
      "source": [
        "# myself test\n",
        "\n",
        "i = eval(input())\n",
        "bonus = 0\n",
        "if i <= 100000:\n",
        "    bonus = i * 0.1\n",
        "if i > 100000:  \n",
        "  bonus += 100000 * 0.1\n",
        "  if i > 200000:\n",
        "    if (i - 200000) > 200000: \n",
        "    bonus += 200000 * 0.05  # 400000 - 200000\n",
        "    else:\n",
        "    bonus = (i - 200000) * 0.05\n",
        "      if i > 400000:\n",
        "        if (i - 400000) > 200000:\n",
        "          bonus += 200000 * 0.03 # 600000 - 400000\n",
        "        else:\n",
        "          bonus = (i - 400000) * 0.5\n",
        "            if i > 600000:\n",
        "              if (i - 600000) > 400000:\n",
        "                bonus += 400000 * 0.015 # 1000000 - 600000\n",
        "              else:\n",
        "                bonus = (i - 600000) * 0.015\n",
        "                  if i > 1000000:  \n",
        "                    bonus += (i - 1000000) * 0.01\n",
        "print(bonus)"
      ],
      "execution_count": null,
      "outputs": [
        {
          "output_type": "error",
          "ename": "IndentationError",
          "evalue": "ignored",
          "traceback": [
            "\u001b[0;36m  File \u001b[0;32m\"<ipython-input-59-353043eb137a>\"\u001b[0;36m, line \u001b[0;32m11\u001b[0m\n\u001b[0;31m    bonus += 200000 * 0.05  # 400000 - 200000\u001b[0m\n\u001b[0m        ^\u001b[0m\n\u001b[0;31mIndentationError\u001b[0m\u001b[0;31m:\u001b[0m expected an indented block\n"
          ]
        }
      ]
    },
    {
      "cell_type": "markdown",
      "metadata": {
        "id": "n1tdyaBfcWrN"
      },
      "source": [
        "```\n",
        "IndentationError: expected an indented block\n",
        "縮排錯誤 \n",
        "```"
      ]
    },
    {
      "cell_type": "code",
      "metadata": {
        "colab": {
          "base_uri": "https://localhost:8080/",
          "height": 131
        },
        "id": "xrtcSaQtc9Y-",
        "outputId": "dab71ac7-e955-4823-9548-bbfb3cd313ff"
      },
      "source": [
        "# myself test\n",
        "\n",
        "i = eval(input())\n",
        "bonus = 0\n",
        "if i <= 100000:\n",
        "    bonus = i * 0.1\n",
        "if i > 100000:  \n",
        "  bonus += 100000 * 0.1\n",
        "  if i > 200000:\n",
        "    if (i - 200000) > 200000: \n",
        "      bonus += 200000 * 0.05  # 400000 - 200000\n",
        "    else:\n",
        "      bonus = (i - 200000) * 0.05\n",
        "        if i > 400000:\n",
        "          if (i - 400000) > 200000:\n",
        "            bonus += 200000 * 0.03 # 600000 - 400000\n",
        "          else:\n",
        "            bonus = (i - 400000) * 0.5\n",
        "              if i > 600000:\n",
        "                if (i - 600000) > 400000:\n",
        "                  bonus += 400000 * 0.015 # 1000000 - 600000\n",
        "                else:\n",
        "                  bonus = (i - 600000) * 0.015\n",
        "                    if i > 1000000:  \n",
        "                      bonus += (i - 1000000) * 0.01\n",
        "print(bonus)"
      ],
      "execution_count": null,
      "outputs": [
        {
          "output_type": "error",
          "ename": "IndentationError",
          "evalue": "ignored",
          "traceback": [
            "\u001b[0;36m  File \u001b[0;32m\"<ipython-input-63-1b1a5c91962d>\"\u001b[0;36m, line \u001b[0;32m14\u001b[0m\n\u001b[0;31m    if i > 400000:\u001b[0m\n\u001b[0m    ^\u001b[0m\n\u001b[0;31mIndentationError\u001b[0m\u001b[0;31m:\u001b[0m unexpected indent\n"
          ]
        }
      ]
    },
    {
      "cell_type": "markdown",
      "metadata": {
        "id": "4T6PYGbxdemR"
      },
      "source": [
        "```\n",
        "IndentationError: unexpected indent\n",
        "縮排錯誤\n",
        "```"
      ]
    },
    {
      "cell_type": "code",
      "metadata": {
        "colab": {
          "base_uri": "https://localhost:8080/"
        },
        "id": "3tpwjvWSdX-5",
        "outputId": "a40ca3ee-3d46-4e39-8826-c95e66eff9e2"
      },
      "source": [
        "# myself \n",
        "\n",
        "i = eval(input())\n",
        "bonus = 0\n",
        "if i <= 100000:\n",
        "  bonus = i * 0.1\n",
        "  print(i * 0.1)\n",
        "if i > 100000:\n",
        "  bonus += 100000 * 0.1  # 低於100000的部分\n",
        "  print(100000 * 0.1)\n",
        "  if (i - 100000) > 100000:  # 數值範圍超過200000\n",
        "    bonus += 100000 * 0.075  # 200000 - 100000\n",
        "    print(100000 * 0.075)\n",
        "  else:\n",
        "    bonus += (i - 100000) * 0.075\n",
        "    print((i - 100000) * 0.075)\n",
        "if i > 200000:\n",
        "  if (i - 200000) > 200000:  # 數值範圍超過400000\n",
        "    bonus += 200000 * 0.05  # 400000 - 200000\n",
        "    print(200000 * 0.05)\n",
        "  else:\n",
        "    bonus = (i - 200000) * 0.05\n",
        "    print((i - 200000) * 0.05)\n",
        "if i > 400000:\n",
        "  if (i - 400000) > 200000: # 數值範圍超過600000\n",
        "    bonus += 200000 * 0.03 # 600000 - 400000\n",
        "    print(200000 * 0.03)\n",
        "  else:\n",
        "    bonus += (i - 400000) * 0.03\n",
        "    print((i - 400000) * 0.03)\n",
        "if i > 600000:\n",
        "  if (i - 600000) > 400000: # 數值範圍超過1000000\n",
        "    bonus += 400000 * 0.015 # 1000000 - 600000\n",
        "    print(400000 * 0.015)\n",
        "  else:\n",
        "    bonus = (i - 600000) * 0.015\n",
        "    print((i - 600000) * 0.015)\n",
        "if i > 1000000:  \n",
        "  bonus += (i - 1000000) * 0.01\n",
        "  print((i - 1000000) * 0.01)\n",
        "print(bonus)"
      ],
      "execution_count": null,
      "outputs": [
        {
          "output_type": "stream",
          "text": [
            "1000005\n",
            "10000.0\n",
            "7500.0\n",
            "10000.0\n",
            "6000.0\n",
            "6000.0\n",
            "0.05\n",
            "39500.05\n"
          ],
          "name": "stdout"
        }
      ]
    },
    {
      "cell_type": "code",
      "metadata": {
        "colab": {
          "base_uri": "https://localhost:8080/"
        },
        "id": "dsG_mUCTix_T",
        "outputId": "ff60eb53-155c-4f12-da27-45893e9c04fd"
      },
      "source": [
        "# answer\n",
        "\n",
        "#!/usr/bin/python3\n",
        " \n",
        "i = int(input('净利润:'))\n",
        "arr = [1000000,600000,400000,200000,100000,0]\n",
        "rat = [0.01,0.015,0.03,0.05,0.075,0.1]\n",
        "r = 0\n",
        "for idx in range(0,6):\n",
        "    if i>arr[idx]:\n",
        "        r+=(i-arr[idx])*rat[idx]\n",
        "        print ((i-arr[idx])*rat[idx])\n",
        "        i=arr[idx]  # 最大範圍限制\n",
        "print (r)"
      ],
      "execution_count": null,
      "outputs": [
        {
          "output_type": "stream",
          "text": [
            "净利润:1000005\n",
            "0.05\n",
            "6000.0\n",
            "6000.0\n",
            "10000.0\n",
            "7500.0\n",
            "10000.0\n",
            "39500.05\n"
          ],
          "name": "stdout"
        }
      ]
    },
    {
      "cell_type": "markdown",
      "metadata": {
        "id": "8LwSeQ9msWWr"
      },
      "source": [
        "Python 练习实例3\n",
        "```\n",
        "题目：一个整数，它加上100后是一个完全平方数，再加上168又是一个完全平方数，请问该数是多少？\n",
        "\n",
        "程序分析：\n",
        "\n",
        "假设该数为 x。\n",
        "\n",
        "1、则：x + 100 = n2, x + 100 + 168 = m2\n",
        "\n",
        "2、计算等式：m2 - n2 = (m + n)(m - n) = 168\n",
        "\n",
        "3、设置： m + n = i，m - n = j，i * j =168，i 和 j 至少一个是偶数\n",
        "\n",
        "4、可得： m = (i + j) / 2， n = (i - j) / 2，i 和 j 要么都是偶数，要么都是奇数。\n",
        "\n",
        "5、从 3 和 4 推导可知道，i 与 j 均是大于等于 2 的偶数。\n",
        "\n",
        "6、由于 i * j = 168， j>=2，则 1 < i < 168 / 2 + 1。\n",
        "\n",
        "7、接下来将 i 的所有数字循环计算即可。\n",
        "```"
      ]
    },
    {
      "cell_type": "code",
      "metadata": {
        "id": "kvzzuQF_szF7"
      },
      "source": [
        "# myself\n"
      ],
      "execution_count": 1,
      "outputs": []
    },
    {
      "cell_type": "code",
      "metadata": {
        "colab": {
          "base_uri": "https://localhost:8080/"
        },
        "id": "KGazBPTfwnKq",
        "outputId": "9ca80250-403e-4f32-9a72-2b2fa7f64099"
      },
      "source": [
        "# answer\n",
        "\n",
        "#!/usr/bin/python\n",
        "# -*- coding: UTF-8 -*-\n",
        " \n",
        "for i in range(1,85):\n",
        "    if 168 % i == 0:\n",
        "        j = 168 / i;\n",
        "        if  i > j and (i + j) % 2 == 0 and (i - j) % 2 == 0 :\n",
        "            m = (i + j) / 2\n",
        "            n = (i - j) / 2\n",
        "            x = n * n - 100\n",
        "            print(x)"
      ],
      "execution_count": null,
      "outputs": [
        {
          "output_type": "stream",
          "text": [
            "-99.0\n",
            "21.0\n",
            "261.0\n",
            "1581.0\n"
          ],
          "name": "stdout"
        }
      ]
    },
    {
      "cell_type": "markdown",
      "metadata": {
        "id": "bP8OmqLAtv85"
      },
      "source": [
        "Python 练习实例4\n",
        "```\n",
        "题目：输入某年某月某日，判断这一天是这一年的第几天？\n",
        "```"
      ]
    },
    {
      "cell_type": "code",
      "metadata": {
        "colab": {
          "base_uri": "https://localhost:8080/",
          "height": 148
        },
        "id": "qXdCQ8D-v9qQ",
        "outputId": "02b93a28-2cfc-4aeb-904e-d1c128a4b789"
      },
      "source": [
        "# myself test\n",
        "\n",
        "year, month, day = eval(input())\n",
        "month_day = [31, 28, 31, 30, 31, 30, 31, 31, 30, 31, 30, 31]\n",
        "\n",
        "if month == 1:\n",
        "  print(\"第 %d 天\" %day)\n",
        "else:\n",
        "  if (year % 400 == 0) or (year % 4 == 0 and year % 100 != 0):\n",
        "    month_day[1] = 29\n",
        "  print(\"第 %d 天\" %sum(month_day[ :month - 1]))"
      ],
      "execution_count": null,
      "outputs": [
        {
          "output_type": "stream",
          "text": [
            "2020, 12, 06\n"
          ],
          "name": "stdout"
        },
        {
          "output_type": "error",
          "ename": "SyntaxError",
          "evalue": "ignored",
          "traceback": [
            "\u001b[0;36m  File \u001b[0;32m\"<string>\"\u001b[0;36m, line \u001b[0;32m1\u001b[0m\n\u001b[0;31m    2020, 12, 06\u001b[0m\n\u001b[0m               ^\u001b[0m\n\u001b[0;31mSyntaxError\u001b[0m\u001b[0;31m:\u001b[0m invalid token\n"
          ]
        }
      ]
    },
    {
      "cell_type": "markdown",
      "metadata": {
        "id": "EdY4LB2B1fVc"
      },
      "source": [
        "```\n",
        "對於以0開頭的數字，Python「SyntaxError：invalid token」\n",
        "```"
      ]
    },
    {
      "cell_type": "code",
      "metadata": {
        "colab": {
          "base_uri": "https://localhost:8080/"
        },
        "id": "-qMowh_uzCjv",
        "outputId": "145dd0fb-24f1-46f4-90f3-81ad0e022b4e"
      },
      "source": [
        "# myself test\n",
        "\n",
        "year, month, day = eval(input())\n",
        "month_day = [31, 28, 31, 30, 31, 30, 31, 31, 30, 31, 30, 31]\n",
        "\n",
        "if month == 1:\n",
        "  print(\"第 %d 天\" %day)\n",
        "else:\n",
        "  if (year % 400 == 0) or (year % 4 == 0 and year % 100 != 0):\n",
        "    month_day[1] = 29\n",
        "  print(\"第 %d 天\" %sum(month_day[ :month - 1], day))  "
      ],
      "execution_count": null,
      "outputs": [
        {
          "output_type": "stream",
          "text": [
            "2020, 12, 6\n",
            "第 341 天\n"
          ],
          "name": "stdout"
        }
      ]
    },
    {
      "cell_type": "markdown",
      "metadata": {
        "id": "8zOQM0G416A0"
      },
      "source": [
        "```\n",
        "sum()\n",
        "計算總和\n",
        "\n",
        "sum()用法\n",
        "sum(iterable, start)\n",
        "iterable:要加總的序列\n",
        "start:序列加總後，要再加的值\n",
        "```"
      ]
    },
    {
      "cell_type": "markdown",
      "metadata": {
        "id": "2RBuKNDf0xUF"
      },
      "source": [
        "Python 练习实例5\n",
        "```\n",
        "题目：输入三个整数x,y,z，请把这三个数由小到大输出。\n",
        "```"
      ]
    },
    {
      "cell_type": "code",
      "metadata": {
        "colab": {
          "base_uri": "https://localhost:8080/",
          "height": 233
        },
        "id": "5rlxc0J72Za7",
        "outputId": "2a493dd4-542b-4364-f42a-beebc17f5327"
      },
      "source": [
        "# myself test\n",
        "\n",
        "x, y, z = input()\n",
        "sort(x, y, z)"
      ],
      "execution_count": null,
      "outputs": [
        {
          "output_type": "stream",
          "text": [
            "5, 8, 2\n"
          ],
          "name": "stdout"
        },
        {
          "output_type": "error",
          "ename": "ValueError",
          "evalue": "ignored",
          "traceback": [
            "\u001b[0;31m---------------------------------------------------------------------------\u001b[0m",
            "\u001b[0;31mValueError\u001b[0m                                Traceback (most recent call last)",
            "\u001b[0;32m<ipython-input-1-0718649d1538>\u001b[0m in \u001b[0;36m<module>\u001b[0;34m()\u001b[0m\n\u001b[1;32m      1\u001b[0m \u001b[0;31m# myself\u001b[0m\u001b[0;34m\u001b[0m\u001b[0;34m\u001b[0m\u001b[0;34m\u001b[0m\u001b[0m\n\u001b[1;32m      2\u001b[0m \u001b[0;34m\u001b[0m\u001b[0m\n\u001b[0;32m----> 3\u001b[0;31m \u001b[0mx\u001b[0m\u001b[0;34m,\u001b[0m \u001b[0my\u001b[0m\u001b[0;34m,\u001b[0m \u001b[0mz\u001b[0m \u001b[0;34m=\u001b[0m \u001b[0minput\u001b[0m\u001b[0;34m(\u001b[0m\u001b[0;34m)\u001b[0m\u001b[0;34m\u001b[0m\u001b[0;34m\u001b[0m\u001b[0m\n\u001b[0m\u001b[1;32m      4\u001b[0m \u001b[0msort\u001b[0m\u001b[0;34m(\u001b[0m\u001b[0mx\u001b[0m\u001b[0;34m,\u001b[0m \u001b[0my\u001b[0m\u001b[0;34m,\u001b[0m \u001b[0mz\u001b[0m\u001b[0;34m)\u001b[0m\u001b[0;34m\u001b[0m\u001b[0;34m\u001b[0m\u001b[0m\n",
            "\u001b[0;31mValueError\u001b[0m: too many values to unpack (expected 3)"
          ]
        }
      ]
    },
    {
      "cell_type": "markdown",
      "metadata": {
        "id": "qTKZGYZ54WKW"
      },
      "source": [
        "```\n",
        "ValueError: too many values to unpack (expected 3)\n",
        "輸入或者輸出的參數數量不一致\n",
        "\n",
        "(expected 3)輸入了3個值\n",
        "```"
      ]
    },
    {
      "cell_type": "code",
      "metadata": {
        "colab": {
          "base_uri": "https://localhost:8080/",
          "height": 250
        },
        "id": "GbJSkGd66RHL",
        "outputId": "96e70467-1590-4939-fed7-e7a298da7559"
      },
      "source": [
        "# myself test\n",
        "\n",
        "x, y, z = input()\n",
        "a = [x, y, z]\n",
        "sorted(a)"
      ],
      "execution_count": null,
      "outputs": [
        {
          "output_type": "stream",
          "text": [
            "5, 8, 2\n"
          ],
          "name": "stdout"
        },
        {
          "output_type": "error",
          "ename": "ValueError",
          "evalue": "ignored",
          "traceback": [
            "\u001b[0;31m---------------------------------------------------------------------------\u001b[0m",
            "\u001b[0;31mValueError\u001b[0m                                Traceback (most recent call last)",
            "\u001b[0;32m<ipython-input-8-6e95764053f9>\u001b[0m in \u001b[0;36m<module>\u001b[0;34m()\u001b[0m\n\u001b[1;32m      1\u001b[0m \u001b[0;31m# myself test\u001b[0m\u001b[0;34m\u001b[0m\u001b[0;34m\u001b[0m\u001b[0;34m\u001b[0m\u001b[0m\n\u001b[1;32m      2\u001b[0m \u001b[0;34m\u001b[0m\u001b[0m\n\u001b[0;32m----> 3\u001b[0;31m \u001b[0mx\u001b[0m\u001b[0;34m,\u001b[0m \u001b[0my\u001b[0m\u001b[0;34m,\u001b[0m \u001b[0mz\u001b[0m \u001b[0;34m=\u001b[0m \u001b[0minput\u001b[0m\u001b[0;34m(\u001b[0m\u001b[0;34m)\u001b[0m\u001b[0;34m\u001b[0m\u001b[0;34m\u001b[0m\u001b[0m\n\u001b[0m\u001b[1;32m      4\u001b[0m \u001b[0ma\u001b[0m \u001b[0;34m=\u001b[0m \u001b[0;34m[\u001b[0m\u001b[0mx\u001b[0m\u001b[0;34m,\u001b[0m \u001b[0my\u001b[0m\u001b[0;34m,\u001b[0m \u001b[0mz\u001b[0m\u001b[0;34m]\u001b[0m\u001b[0;34m\u001b[0m\u001b[0;34m\u001b[0m\u001b[0m\n\u001b[1;32m      5\u001b[0m \u001b[0msorted\u001b[0m\u001b[0;34m(\u001b[0m\u001b[0ma\u001b[0m\u001b[0;34m)\u001b[0m\u001b[0;34m\u001b[0m\u001b[0;34m\u001b[0m\u001b[0m\n",
            "\u001b[0;31mValueError\u001b[0m: too many values to unpack (expected 3)"
          ]
        }
      ]
    },
    {
      "cell_type": "code",
      "metadata": {
        "colab": {
          "base_uri": "https://localhost:8080/",
          "height": 250
        },
        "id": "LTjcH4TW5OJJ",
        "outputId": "7b0e7052-a66a-452e-bde7-e1d2a6d2dbe8"
      },
      "source": [
        "# myself test\n",
        "\n",
        "x, y, z = input()\n",
        "a = [x, y, z]\n",
        "a.sorted()"
      ],
      "execution_count": null,
      "outputs": [
        {
          "output_type": "stream",
          "text": [
            "5, 8, 2\n"
          ],
          "name": "stdout"
        },
        {
          "output_type": "error",
          "ename": "ValueError",
          "evalue": "ignored",
          "traceback": [
            "\u001b[0;31m---------------------------------------------------------------------------\u001b[0m",
            "\u001b[0;31mValueError\u001b[0m                                Traceback (most recent call last)",
            "\u001b[0;32m<ipython-input-9-b8ffe4a96e5d>\u001b[0m in \u001b[0;36m<module>\u001b[0;34m()\u001b[0m\n\u001b[1;32m      1\u001b[0m \u001b[0;31m# myself test\u001b[0m\u001b[0;34m\u001b[0m\u001b[0;34m\u001b[0m\u001b[0;34m\u001b[0m\u001b[0m\n\u001b[1;32m      2\u001b[0m \u001b[0;34m\u001b[0m\u001b[0m\n\u001b[0;32m----> 3\u001b[0;31m \u001b[0mx\u001b[0m\u001b[0;34m,\u001b[0m \u001b[0my\u001b[0m\u001b[0;34m,\u001b[0m \u001b[0mz\u001b[0m \u001b[0;34m=\u001b[0m \u001b[0minput\u001b[0m\u001b[0;34m(\u001b[0m\u001b[0;34m)\u001b[0m\u001b[0;34m\u001b[0m\u001b[0;34m\u001b[0m\u001b[0m\n\u001b[0m\u001b[1;32m      4\u001b[0m \u001b[0ma\u001b[0m \u001b[0;34m=\u001b[0m \u001b[0;34m[\u001b[0m\u001b[0mx\u001b[0m\u001b[0;34m,\u001b[0m \u001b[0my\u001b[0m\u001b[0;34m,\u001b[0m \u001b[0mz\u001b[0m\u001b[0;34m]\u001b[0m\u001b[0;34m\u001b[0m\u001b[0;34m\u001b[0m\u001b[0m\n\u001b[1;32m      5\u001b[0m \u001b[0ma\u001b[0m\u001b[0;34m.\u001b[0m\u001b[0msorted\u001b[0m\u001b[0;34m(\u001b[0m\u001b[0;34m)\u001b[0m\u001b[0;34m\u001b[0m\u001b[0;34m\u001b[0m\u001b[0m\n",
            "\u001b[0;31mValueError\u001b[0m: too many values to unpack (expected 3)"
          ]
        }
      ]
    },
    {
      "cell_type": "code",
      "metadata": {
        "colab": {
          "base_uri": "https://localhost:8080/",
          "height": 216
        },
        "id": "nc8zgQqs9pub",
        "outputId": "ba51e4c7-8ed0-4ae4-9ed1-c57d302dbe81"
      },
      "source": [
        "# myself test\n",
        "\n",
        "x, y, z = eval(input())\n",
        "a = [x, y, z]\n",
        "a.sorted()"
      ],
      "execution_count": null,
      "outputs": [
        {
          "output_type": "stream",
          "text": [
            "5, 8, 2\n"
          ],
          "name": "stdout"
        },
        {
          "output_type": "error",
          "ename": "AttributeError",
          "evalue": "ignored",
          "traceback": [
            "\u001b[0;31m---------------------------------------------------------------------------\u001b[0m",
            "\u001b[0;31mAttributeError\u001b[0m                            Traceback (most recent call last)",
            "\u001b[0;32m<ipython-input-10-fcf2bc050ff9>\u001b[0m in \u001b[0;36m<module>\u001b[0;34m()\u001b[0m\n\u001b[1;32m      3\u001b[0m \u001b[0mx\u001b[0m\u001b[0;34m,\u001b[0m \u001b[0my\u001b[0m\u001b[0;34m,\u001b[0m \u001b[0mz\u001b[0m \u001b[0;34m=\u001b[0m \u001b[0meval\u001b[0m\u001b[0;34m(\u001b[0m\u001b[0minput\u001b[0m\u001b[0;34m(\u001b[0m\u001b[0;34m)\u001b[0m\u001b[0;34m)\u001b[0m\u001b[0;34m\u001b[0m\u001b[0;34m\u001b[0m\u001b[0m\n\u001b[1;32m      4\u001b[0m \u001b[0ma\u001b[0m \u001b[0;34m=\u001b[0m \u001b[0;34m[\u001b[0m\u001b[0mx\u001b[0m\u001b[0;34m,\u001b[0m \u001b[0my\u001b[0m\u001b[0;34m,\u001b[0m \u001b[0mz\u001b[0m\u001b[0;34m]\u001b[0m\u001b[0;34m\u001b[0m\u001b[0;34m\u001b[0m\u001b[0m\n\u001b[0;32m----> 5\u001b[0;31m \u001b[0ma\u001b[0m\u001b[0;34m.\u001b[0m\u001b[0msorted\u001b[0m\u001b[0;34m(\u001b[0m\u001b[0;34m)\u001b[0m\u001b[0;34m\u001b[0m\u001b[0;34m\u001b[0m\u001b[0m\n\u001b[0m",
            "\u001b[0;31mAttributeError\u001b[0m: 'list' object has no attribute 'sorted'"
          ]
        }
      ]
    },
    {
      "cell_type": "markdown",
      "metadata": {
        "id": "TdI0dkjI98Jy"
      },
      "source": [
        "```\n",
        "AttributeError: 'list' object has no attribute 'sorted'\n",
        "列表裡面沒有sorted()屬性\n",
        "\n",
        "sort()是方法\n",
        "sort()是列表的內建函式，一般不寫參數（取預設值），無返回值，\n",
        "sort()會改變列表，原地排序，因此無需返回值。\n",
        "字典、元組、字串不具有sort()方法，如果呼叫將會返回一個異常。\n",
        "\n",
        "sorted()是函數\n",
        "sorted()是python的內建函式，該函式不改變原物件，\n",
        "呼叫時一般只需給出一個參數(引數可以是列表、字典、元組、字串)，其餘參數取預設值，\n",
        "無論傳遞什麼參數，都將返回一個以列表為容器的返回值，如果是字典將返回鍵的列表。\n",
        "```"
      ]
    },
    {
      "cell_type": "code",
      "metadata": {
        "colab": {
          "base_uri": "https://localhost:8080/"
        },
        "id": "am_iFZ8Q_MHU",
        "outputId": "58d2d615-7aa4-4973-966b-225a6e5e4588"
      },
      "source": [
        "# myself\n",
        "\n",
        "x, y, z = eval(input())\n",
        "a = [x, y, z]\n",
        "a.sort()\n",
        "a"
      ],
      "execution_count": null,
      "outputs": [
        {
          "output_type": "stream",
          "text": [
            "5, 8, 2\n"
          ],
          "name": "stdout"
        },
        {
          "output_type": "execute_result",
          "data": {
            "text/plain": [
              "[2, 5, 8]"
            ]
          },
          "metadata": {
            "tags": []
          },
          "execution_count": 13
        }
      ]
    },
    {
      "cell_type": "code",
      "metadata": {
        "colab": {
          "base_uri": "https://localhost:8080/"
        },
        "id": "gWufppaG_iB2",
        "outputId": "d62928e7-19b9-4567-e754-31906d06dc53"
      },
      "source": [
        "# myself\n",
        "\n",
        "x, y, z = eval(input())\n",
        "a = [x, y, z]\n",
        "sorted(a)"
      ],
      "execution_count": null,
      "outputs": [
        {
          "output_type": "stream",
          "text": [
            "5, 8, 2\n"
          ],
          "name": "stdout"
        },
        {
          "output_type": "execute_result",
          "data": {
            "text/plain": [
              "[2, 5, 8]"
            ]
          },
          "metadata": {
            "tags": []
          },
          "execution_count": 18
        }
      ]
    },
    {
      "cell_type": "code",
      "metadata": {
        "colab": {
          "base_uri": "https://localhost:8080/",
          "height": 250
        },
        "id": "AMkOBSAs6X-c",
        "outputId": "41336b59-4879-4dd5-dad3-653b253341df"
      },
      "source": [
        "# myself test\n",
        "x, y, z = eval(input())\n",
        "a = [x, y, z]\n",
        "for i in range(3):\n",
        "  if a[i] > a[i+1]:\n",
        "    a[i], a[i+1] = a[i+1], a[i]\n",
        "print(a)"
      ],
      "execution_count": null,
      "outputs": [
        {
          "output_type": "stream",
          "text": [
            "5, 8, 3\n"
          ],
          "name": "stdout"
        },
        {
          "output_type": "error",
          "ename": "IndexError",
          "evalue": "ignored",
          "traceback": [
            "\u001b[0;31m---------------------------------------------------------------------------\u001b[0m",
            "\u001b[0;31mIndexError\u001b[0m                                Traceback (most recent call last)",
            "\u001b[0;32m<ipython-input-7-ffded6d9e9f9>\u001b[0m in \u001b[0;36m<module>\u001b[0;34m()\u001b[0m\n\u001b[1;32m      3\u001b[0m \u001b[0ma\u001b[0m \u001b[0;34m=\u001b[0m \u001b[0;34m[\u001b[0m\u001b[0mx\u001b[0m\u001b[0;34m,\u001b[0m \u001b[0my\u001b[0m\u001b[0;34m,\u001b[0m \u001b[0mz\u001b[0m\u001b[0;34m]\u001b[0m\u001b[0;34m\u001b[0m\u001b[0;34m\u001b[0m\u001b[0m\n\u001b[1;32m      4\u001b[0m \u001b[0;32mfor\u001b[0m \u001b[0mi\u001b[0m \u001b[0;32min\u001b[0m \u001b[0mrange\u001b[0m\u001b[0;34m(\u001b[0m\u001b[0;36m3\u001b[0m\u001b[0;34m)\u001b[0m\u001b[0;34m:\u001b[0m\u001b[0;34m\u001b[0m\u001b[0;34m\u001b[0m\u001b[0m\n\u001b[0;32m----> 5\u001b[0;31m   \u001b[0;32mif\u001b[0m \u001b[0ma\u001b[0m\u001b[0;34m[\u001b[0m\u001b[0mi\u001b[0m\u001b[0;34m]\u001b[0m \u001b[0;34m>\u001b[0m \u001b[0ma\u001b[0m\u001b[0;34m[\u001b[0m\u001b[0mi\u001b[0m\u001b[0;34m+\u001b[0m\u001b[0;36m1\u001b[0m\u001b[0;34m]\u001b[0m\u001b[0;34m:\u001b[0m\u001b[0;34m\u001b[0m\u001b[0;34m\u001b[0m\u001b[0m\n\u001b[0m\u001b[1;32m      6\u001b[0m     \u001b[0ma\u001b[0m\u001b[0;34m[\u001b[0m\u001b[0mi\u001b[0m\u001b[0;34m]\u001b[0m\u001b[0;34m,\u001b[0m \u001b[0ma\u001b[0m\u001b[0;34m[\u001b[0m\u001b[0mi\u001b[0m\u001b[0;34m+\u001b[0m\u001b[0;36m1\u001b[0m\u001b[0;34m]\u001b[0m \u001b[0;34m=\u001b[0m \u001b[0ma\u001b[0m\u001b[0;34m[\u001b[0m\u001b[0mi\u001b[0m\u001b[0;34m+\u001b[0m\u001b[0;36m1\u001b[0m\u001b[0;34m]\u001b[0m\u001b[0;34m,\u001b[0m \u001b[0ma\u001b[0m\u001b[0;34m[\u001b[0m\u001b[0mi\u001b[0m\u001b[0;34m]\u001b[0m\u001b[0;34m\u001b[0m\u001b[0;34m\u001b[0m\u001b[0m\n\u001b[1;32m      7\u001b[0m \u001b[0mprint\u001b[0m\u001b[0;34m(\u001b[0m\u001b[0ma\u001b[0m\u001b[0;34m)\u001b[0m\u001b[0;34m\u001b[0m\u001b[0;34m\u001b[0m\u001b[0m\n",
            "\u001b[0;31mIndexError\u001b[0m: list index out of range"
          ]
        }
      ]
    },
    {
      "cell_type": "markdown",
      "metadata": {
        "id": "D9f4AoAE7b2Y"
      },
      "source": [
        "```\n",
        "IndexError: list index out of range\n",
        "索引超出了 list 的範圍\n",
        "```"
      ]
    },
    {
      "cell_type": "code",
      "metadata": {
        "colab": {
          "base_uri": "https://localhost:8080/"
        },
        "id": "DRvZhBHOAfpv",
        "outputId": "d4c99d5d-fbdf-44b7-840c-4a2cc75a9437"
      },
      "source": [
        "# myself test\n",
        "x, y, z = eval(input())\n",
        "a = [x, y, z]\n",
        "for i in range(2):  # 不能只換一次\n",
        "  if a[i] > a[i+1]: \n",
        "    a[i], a[i+1] = a[i+1], a[i]\n",
        "print(a)"
      ],
      "execution_count": null,
      "outputs": [
        {
          "output_type": "stream",
          "text": [
            "5, 8, 3\n",
            "[5, 3, 8]\n"
          ],
          "name": "stdout"
        }
      ]
    },
    {
      "cell_type": "code",
      "metadata": {
        "colab": {
          "base_uri": "https://localhost:8080/"
        },
        "id": "d93v2XY0Azxa",
        "outputId": "0af84597-9fe5-4d9a-f736-cd87fd0cdb4c"
      },
      "source": [
        "# myself\n",
        "x, y, z = eval(input())\n",
        "a = [x, y, z]\n",
        "\n",
        "for j in range(2):\n",
        "  for i in range(2): \n",
        "    if a[i] > a[i+1]: \n",
        "      a[i], a[i+1] = a[i+1], a[i]\n",
        "print(a)"
      ],
      "execution_count": null,
      "outputs": [
        {
          "output_type": "stream",
          "text": [
            "5, 8, 3\n",
            "[3, 5, 8]\n"
          ],
          "name": "stdout"
        }
      ]
    },
    {
      "cell_type": "code",
      "metadata": {
        "id": "z7YeaWSRCBL8"
      },
      "source": [
        "# answer\n",
        "\n",
        "#!/usr/bin/python3\n",
        " \n",
        "l = []\n",
        "for i in range(3):\n",
        "    x = int(input('integer:\\n'))\n",
        "    l.append(x)\n",
        "l.sort()\n",
        "print (l)"
      ],
      "execution_count": null,
      "outputs": []
    },
    {
      "cell_type": "markdown",
      "metadata": {
        "id": "nVQKC2QBZMit"
      },
      "source": [
        "```\n",
        "append()\n",
        "在列表末尾添加元素\n",
        "\n",
        "append()用法\n",
        "list.append(obj)\n",
        "obj 要添加的元素\n",
        "```"
      ]
    },
    {
      "cell_type": "markdown",
      "metadata": {
        "id": "kSpcykGeB-Vh"
      },
      "source": [
        "Python 练习实例6\n",
        "```\n",
        "题目：斐波那契数列。\n",
        "又称黄金分割数列，指的是这样一个数列：0、1、1、2、3、5、8、13、21、34、……。\n",
        "\n",
        "在数学上，费波那契数列是以递归的方法来定义：\n",
        "\n",
        "F0 = 0    (n=0)\n",
        "F1 = 1    (n=1)\n",
        "Fn = F[n-1]+ F[n-2] (n=>2)\n",
        "```"
      ]
    },
    {
      "cell_type": "code",
      "metadata": {
        "id": "AKMFrW0xCk4H",
        "colab": {
          "base_uri": "https://localhost:8080/",
          "height": 318
        },
        "outputId": "bb1a1ab9-9efe-469f-9e12-334fa2d8da6d"
      },
      "source": [
        "# myself test\n",
        "\n",
        "def F(n):\n",
        "  a = [0, 1]\n",
        "  for i in range(2, n):\n",
        "    a[i] = a[i-1] + a[i-2]  \n",
        "  print(a)  \n",
        "\n",
        "F(10)"
      ],
      "execution_count": null,
      "outputs": [
        {
          "output_type": "error",
          "ename": "IndexError",
          "evalue": "ignored",
          "traceback": [
            "\u001b[0;31m---------------------------------------------------------------------------\u001b[0m",
            "\u001b[0;31mIndexError\u001b[0m                                Traceback (most recent call last)",
            "\u001b[0;32m<ipython-input-14-17df35d77e61>\u001b[0m in \u001b[0;36m<module>\u001b[0;34m()\u001b[0m\n\u001b[1;32m      7\u001b[0m   \u001b[0mprint\u001b[0m\u001b[0;34m(\u001b[0m\u001b[0ma\u001b[0m\u001b[0;34m)\u001b[0m\u001b[0;34m\u001b[0m\u001b[0;34m\u001b[0m\u001b[0m\n\u001b[1;32m      8\u001b[0m \u001b[0;34m\u001b[0m\u001b[0m\n\u001b[0;32m----> 9\u001b[0;31m \u001b[0mF\u001b[0m\u001b[0;34m(\u001b[0m\u001b[0;36m10\u001b[0m\u001b[0;34m)\u001b[0m\u001b[0;34m\u001b[0m\u001b[0;34m\u001b[0m\u001b[0m\n\u001b[0m",
            "\u001b[0;32m<ipython-input-14-17df35d77e61>\u001b[0m in \u001b[0;36mF\u001b[0;34m(n)\u001b[0m\n\u001b[1;32m      4\u001b[0m   \u001b[0ma\u001b[0m \u001b[0;34m=\u001b[0m \u001b[0;34m[\u001b[0m\u001b[0;36m0\u001b[0m\u001b[0;34m,\u001b[0m \u001b[0;36m1\u001b[0m\u001b[0;34m]\u001b[0m\u001b[0;34m\u001b[0m\u001b[0;34m\u001b[0m\u001b[0m\n\u001b[1;32m      5\u001b[0m   \u001b[0;32mfor\u001b[0m \u001b[0mi\u001b[0m \u001b[0;32min\u001b[0m \u001b[0mrange\u001b[0m\u001b[0;34m(\u001b[0m\u001b[0;36m2\u001b[0m\u001b[0;34m,\u001b[0m \u001b[0mn\u001b[0m\u001b[0;34m)\u001b[0m\u001b[0;34m:\u001b[0m\u001b[0;34m\u001b[0m\u001b[0;34m\u001b[0m\u001b[0m\n\u001b[0;32m----> 6\u001b[0;31m     \u001b[0ma\u001b[0m\u001b[0;34m[\u001b[0m\u001b[0mi\u001b[0m\u001b[0;34m]\u001b[0m \u001b[0;34m=\u001b[0m \u001b[0ma\u001b[0m\u001b[0;34m[\u001b[0m\u001b[0mi\u001b[0m\u001b[0;34m-\u001b[0m\u001b[0;36m1\u001b[0m\u001b[0;34m]\u001b[0m \u001b[0;34m+\u001b[0m \u001b[0ma\u001b[0m\u001b[0;34m[\u001b[0m\u001b[0mi\u001b[0m\u001b[0;34m-\u001b[0m\u001b[0;36m2\u001b[0m\u001b[0;34m]\u001b[0m\u001b[0;34m\u001b[0m\u001b[0;34m\u001b[0m\u001b[0m\n\u001b[0m\u001b[1;32m      7\u001b[0m   \u001b[0mprint\u001b[0m\u001b[0;34m(\u001b[0m\u001b[0ma\u001b[0m\u001b[0;34m)\u001b[0m\u001b[0;34m\u001b[0m\u001b[0;34m\u001b[0m\u001b[0m\n\u001b[1;32m      8\u001b[0m \u001b[0;34m\u001b[0m\u001b[0m\n",
            "\u001b[0;31mIndexError\u001b[0m: list assignment index out of range"
          ]
        }
      ]
    },
    {
      "cell_type": "code",
      "metadata": {
        "colab": {
          "base_uri": "https://localhost:8080/",
          "height": 318
        },
        "id": "Xr2W2jJabW8k",
        "outputId": "8c5068b9-a089-4634-eb4e-eca4916dfe39"
      },
      "source": [
        "# myself test\n",
        "\n",
        "def F(n):\n",
        "  a = [0, 1]\n",
        "  for i in range(2, n):\n",
        "    a[i] = a[-1] + a[n-2]\n",
        "    a.append(a[i])\n",
        "  print(a)  \n",
        "\n",
        "F(10)"
      ],
      "execution_count": null,
      "outputs": [
        {
          "output_type": "error",
          "ename": "IndexError",
          "evalue": "ignored",
          "traceback": [
            "\u001b[0;31m---------------------------------------------------------------------------\u001b[0m",
            "\u001b[0;31mIndexError\u001b[0m                                Traceback (most recent call last)",
            "\u001b[0;32m<ipython-input-15-8ae287b06c84>\u001b[0m in \u001b[0;36m<module>\u001b[0;34m()\u001b[0m\n\u001b[1;32m      8\u001b[0m   \u001b[0mprint\u001b[0m\u001b[0;34m(\u001b[0m\u001b[0ma\u001b[0m\u001b[0;34m)\u001b[0m\u001b[0;34m\u001b[0m\u001b[0;34m\u001b[0m\u001b[0m\n\u001b[1;32m      9\u001b[0m \u001b[0;34m\u001b[0m\u001b[0m\n\u001b[0;32m---> 10\u001b[0;31m \u001b[0mF\u001b[0m\u001b[0;34m(\u001b[0m\u001b[0;36m10\u001b[0m\u001b[0;34m)\u001b[0m\u001b[0;34m\u001b[0m\u001b[0;34m\u001b[0m\u001b[0m\n\u001b[0m",
            "\u001b[0;32m<ipython-input-15-8ae287b06c84>\u001b[0m in \u001b[0;36mF\u001b[0;34m(n)\u001b[0m\n\u001b[1;32m      4\u001b[0m   \u001b[0ma\u001b[0m \u001b[0;34m=\u001b[0m \u001b[0;34m[\u001b[0m\u001b[0;36m0\u001b[0m\u001b[0;34m,\u001b[0m \u001b[0;36m1\u001b[0m\u001b[0;34m]\u001b[0m\u001b[0;34m\u001b[0m\u001b[0;34m\u001b[0m\u001b[0m\n\u001b[1;32m      5\u001b[0m   \u001b[0;32mfor\u001b[0m \u001b[0mi\u001b[0m \u001b[0;32min\u001b[0m \u001b[0mrange\u001b[0m\u001b[0;34m(\u001b[0m\u001b[0;36m2\u001b[0m\u001b[0;34m,\u001b[0m \u001b[0mn\u001b[0m\u001b[0;34m)\u001b[0m\u001b[0;34m:\u001b[0m\u001b[0;34m\u001b[0m\u001b[0;34m\u001b[0m\u001b[0m\n\u001b[0;32m----> 6\u001b[0;31m     \u001b[0ma\u001b[0m\u001b[0;34m[\u001b[0m\u001b[0mi\u001b[0m\u001b[0;34m]\u001b[0m \u001b[0;34m=\u001b[0m \u001b[0ma\u001b[0m\u001b[0;34m[\u001b[0m\u001b[0;34m-\u001b[0m\u001b[0;36m1\u001b[0m\u001b[0;34m]\u001b[0m \u001b[0;34m+\u001b[0m \u001b[0ma\u001b[0m\u001b[0;34m[\u001b[0m\u001b[0mn\u001b[0m\u001b[0;34m-\u001b[0m\u001b[0;36m2\u001b[0m\u001b[0;34m]\u001b[0m\u001b[0;34m\u001b[0m\u001b[0;34m\u001b[0m\u001b[0m\n\u001b[0m\u001b[1;32m      7\u001b[0m     \u001b[0ma\u001b[0m\u001b[0;34m.\u001b[0m\u001b[0mappend\u001b[0m\u001b[0;34m(\u001b[0m\u001b[0ma\u001b[0m\u001b[0;34m[\u001b[0m\u001b[0mi\u001b[0m\u001b[0;34m]\u001b[0m\u001b[0;34m)\u001b[0m\u001b[0;34m\u001b[0m\u001b[0;34m\u001b[0m\u001b[0m\n\u001b[1;32m      8\u001b[0m   \u001b[0mprint\u001b[0m\u001b[0;34m(\u001b[0m\u001b[0ma\u001b[0m\u001b[0;34m)\u001b[0m\u001b[0;34m\u001b[0m\u001b[0;34m\u001b[0m\u001b[0m\n",
            "\u001b[0;31mIndexError\u001b[0m: list index out of range"
          ]
        }
      ]
    },
    {
      "cell_type": "code",
      "metadata": {
        "colab": {
          "base_uri": "https://localhost:8080/",
          "height": 131
        },
        "id": "nWAg0grqbmLg",
        "outputId": "393941a6-b7c2-47b4-af60-24296584bf87"
      },
      "source": [
        "# myself test\n",
        "\n",
        "def F(n):\n",
        "  a = [0, 1]\n",
        "  for i in range(2, n):\n",
        "    a.append(a[i] = a[i-1] + a[i-2])\n",
        "  print(a)  \n",
        "\n",
        "F(10)"
      ],
      "execution_count": null,
      "outputs": [
        {
          "output_type": "error",
          "ename": "SyntaxError",
          "evalue": "ignored",
          "traceback": [
            "\u001b[0;36m  File \u001b[0;32m\"<ipython-input-16-87e08c53830a>\"\u001b[0;36m, line \u001b[0;32m6\u001b[0m\n\u001b[0;31m    a.append(a[i] = a[i-1] + a[i-2])\u001b[0m\n\u001b[0m            ^\u001b[0m\n\u001b[0;31mSyntaxError\u001b[0m\u001b[0;31m:\u001b[0m keyword can't be an expression\n"
          ]
        }
      ]
    },
    {
      "cell_type": "code",
      "metadata": {
        "colab": {
          "base_uri": "https://localhost:8080/"
        },
        "id": "NJ56-AB6bzPx",
        "outputId": "45e6d05b-acb9-4a9c-a163-9388511a725f"
      },
      "source": [
        "# myself\n",
        "\n",
        "def F(n):\n",
        "  a = [0, 1]\n",
        "  for i in range(2, n):\n",
        "    a.append(a[i-1] + a[i-2])\n",
        "  print(a)  \n",
        "\n",
        "F(10)"
      ],
      "execution_count": null,
      "outputs": [
        {
          "output_type": "stream",
          "text": [
            "[0, 1, 1, 2, 3, 5, 8, 13, 21, 34]\n"
          ],
          "name": "stdout"
        }
      ]
    },
    {
      "cell_type": "code",
      "metadata": {
        "colab": {
          "base_uri": "https://localhost:8080/",
          "height": 318
        },
        "id": "l_YZUgkZdvOE",
        "outputId": "5331c60d-d36c-4eef-9e06-968501af9152"
      },
      "source": [
        "# myself test\n",
        "\n",
        "def F(n):\n",
        "  a = []\n",
        "  a[0] = 0\n",
        "  a[1] = 1\n",
        "  for i in range(2, n):\n",
        "    a.append(a[i-1] + a[i-2])\n",
        "  print(a)  \n",
        "\n",
        "F(10)"
      ],
      "execution_count": null,
      "outputs": [
        {
          "output_type": "error",
          "ename": "IndexError",
          "evalue": "ignored",
          "traceback": [
            "\u001b[0;31m---------------------------------------------------------------------------\u001b[0m",
            "\u001b[0;31mIndexError\u001b[0m                                Traceback (most recent call last)",
            "\u001b[0;32m<ipython-input-18-0fe448337ec6>\u001b[0m in \u001b[0;36m<module>\u001b[0;34m()\u001b[0m\n\u001b[1;32m      9\u001b[0m   \u001b[0mprint\u001b[0m\u001b[0;34m(\u001b[0m\u001b[0ma\u001b[0m\u001b[0;34m)\u001b[0m\u001b[0;34m\u001b[0m\u001b[0;34m\u001b[0m\u001b[0m\n\u001b[1;32m     10\u001b[0m \u001b[0;34m\u001b[0m\u001b[0m\n\u001b[0;32m---> 11\u001b[0;31m \u001b[0mF\u001b[0m\u001b[0;34m(\u001b[0m\u001b[0;36m10\u001b[0m\u001b[0;34m)\u001b[0m\u001b[0;34m\u001b[0m\u001b[0;34m\u001b[0m\u001b[0m\n\u001b[0m",
            "\u001b[0;32m<ipython-input-18-0fe448337ec6>\u001b[0m in \u001b[0;36mF\u001b[0;34m(n)\u001b[0m\n\u001b[1;32m      3\u001b[0m \u001b[0;32mdef\u001b[0m \u001b[0mF\u001b[0m\u001b[0;34m(\u001b[0m\u001b[0mn\u001b[0m\u001b[0;34m)\u001b[0m\u001b[0;34m:\u001b[0m\u001b[0;34m\u001b[0m\u001b[0;34m\u001b[0m\u001b[0m\n\u001b[1;32m      4\u001b[0m   \u001b[0ma\u001b[0m \u001b[0;34m=\u001b[0m \u001b[0;34m[\u001b[0m\u001b[0;34m]\u001b[0m\u001b[0;34m\u001b[0m\u001b[0;34m\u001b[0m\u001b[0m\n\u001b[0;32m----> 5\u001b[0;31m   \u001b[0ma\u001b[0m\u001b[0;34m[\u001b[0m\u001b[0;36m0\u001b[0m\u001b[0;34m]\u001b[0m \u001b[0;34m=\u001b[0m \u001b[0;36m0\u001b[0m\u001b[0;34m\u001b[0m\u001b[0;34m\u001b[0m\u001b[0m\n\u001b[0m\u001b[1;32m      6\u001b[0m   \u001b[0ma\u001b[0m\u001b[0;34m[\u001b[0m\u001b[0;36m1\u001b[0m\u001b[0;34m]\u001b[0m \u001b[0;34m=\u001b[0m \u001b[0;36m1\u001b[0m\u001b[0;34m\u001b[0m\u001b[0;34m\u001b[0m\u001b[0m\n\u001b[1;32m      7\u001b[0m   \u001b[0;32mfor\u001b[0m \u001b[0mi\u001b[0m \u001b[0;32min\u001b[0m \u001b[0mrange\u001b[0m\u001b[0;34m(\u001b[0m\u001b[0;36m2\u001b[0m\u001b[0;34m,\u001b[0m \u001b[0mn\u001b[0m\u001b[0;34m)\u001b[0m\u001b[0;34m:\u001b[0m\u001b[0;34m\u001b[0m\u001b[0;34m\u001b[0m\u001b[0m\n",
            "\u001b[0;31mIndexError\u001b[0m: list assignment index out of range"
          ]
        }
      ]
    },
    {
      "cell_type": "code",
      "metadata": {
        "colab": {
          "base_uri": "https://localhost:8080/"
        },
        "id": "w0NNixVueELH",
        "outputId": "64bde553-4bbb-45fb-8062-be3dd4998f68"
      },
      "source": [
        "# myself\n",
        "\n",
        "def F(n):\n",
        "  a = []\n",
        "  a.append(0)\n",
        "  a.append(1)\n",
        "  for i in range(2, n):\n",
        "    a.append(a[i-1] + a[i-2])\n",
        "  print(a)  \n",
        "\n",
        "F(10)"
      ],
      "execution_count": null,
      "outputs": [
        {
          "output_type": "stream",
          "text": [
            "[0, 1, 1, 2, 3, 5, 8, 13, 21, 34]\n"
          ],
          "name": "stdout"
        }
      ]
    },
    {
      "cell_type": "code",
      "metadata": {
        "colab": {
          "base_uri": "https://localhost:8080/"
        },
        "id": "4IoVw5MTegKS",
        "outputId": "80762090-ef5b-423e-c943-992b75d3bb72"
      },
      "source": [
        "# answer1\n",
        "\n",
        "#!/usr/bin/python\n",
        "# -*- coding: UTF-8 -*-\n",
        " \n",
        "def fib(n):\n",
        "    a,b = 1,1\n",
        "    for i in range(n-1):\n",
        "        a,b = b,a+b\n",
        "    return a\n",
        " \n",
        "# 输出了第10个斐波那契数列\n",
        "print (fib(10))"
      ],
      "execution_count": null,
      "outputs": [
        {
          "output_type": "stream",
          "text": [
            "55\n"
          ],
          "name": "stdout"
        }
      ]
    },
    {
      "cell_type": "markdown",
      "metadata": {
        "id": "uCPJxSJ0gBXF"
      },
      "source": [
        "```\n",
        "a, b = b, a+b\n",
        "1, 2\n",
        "2, 3\n",
        "3, 5\n",
        "5, 8\n",
        "8, 13\n",
        "13, 21\n",
        "21. 34\n",
        "34, 55\n",
        "55, 89\n",
        "```"
      ]
    },
    {
      "cell_type": "code",
      "metadata": {
        "colab": {
          "base_uri": "https://localhost:8080/"
        },
        "id": "oqda8E69etlx",
        "outputId": "0cbf135d-f39f-48a3-8ffb-91ab7dcadd00"
      },
      "source": [
        "# answer2\n",
        "\n",
        "#!/usr/bin/python\n",
        "# -*- coding: UTF-8 -*-\n",
        " \n",
        "# 使用递归\n",
        "def fib(n):\n",
        "    if n==1 or n==2:\n",
        "        return 1\n",
        "    return fib(n-1)+fib(n-2)\n",
        " \n",
        "# 输出了第10个斐波那契数列\n",
        "print (fib(10))"
      ],
      "execution_count": null,
      "outputs": [
        {
          "output_type": "stream",
          "text": [
            "55\n"
          ],
          "name": "stdout"
        }
      ]
    },
    {
      "cell_type": "code",
      "metadata": {
        "colab": {
          "base_uri": "https://localhost:8080/"
        },
        "id": "yMY723-SezX3",
        "outputId": "0d47a4fd-3730-4875-c90b-f8eecfd5f290"
      },
      "source": [
        "# answer3\n",
        "\n",
        "#!/usr/bin/python\n",
        "# -*- coding: UTF-8 -*-\n",
        " \n",
        "def fib(n):\n",
        "    if n == 1:\n",
        "        return [1]\n",
        "    if n == 2:\n",
        "        return [1, 1]\n",
        "    fibs = [1, 1]\n",
        "    for i in range(2, n):\n",
        "        fibs.append(fibs[-1] + fibs[-2])\n",
        "    return fibs\n",
        " \n",
        "# 输出前 10 个斐波那契数列\n",
        "print (fib(10))"
      ],
      "execution_count": null,
      "outputs": [
        {
          "output_type": "stream",
          "text": [
            "[1, 1, 2, 3, 5, 8, 13, 21, 34, 55]\n"
          ],
          "name": "stdout"
        }
      ]
    },
    {
      "cell_type": "markdown",
      "metadata": {
        "id": "J5MvXKXdi2_h"
      },
      "source": [
        "Python 练习实例7\n",
        "```\n",
        "题目：将一个列表的数据复制到另一个列表中\n",
        "```"
      ]
    },
    {
      "cell_type": "code",
      "metadata": {
        "colab": {
          "base_uri": "https://localhost:8080/",
          "height": 216
        },
        "id": "5Tku73D8i_NM",
        "outputId": "22596978-3526-4620-aaea-2cf2d5453e85"
      },
      "source": [
        "# myself test\n",
        "\n",
        "a[1, 2, 3]\n",
        "b = a"
      ],
      "execution_count": null,
      "outputs": [
        {
          "output_type": "error",
          "ename": "NameError",
          "evalue": "ignored",
          "traceback": [
            "\u001b[0;31m---------------------------------------------------------------------------\u001b[0m",
            "\u001b[0;31mNameError\u001b[0m                                 Traceback (most recent call last)",
            "\u001b[0;32m<ipython-input-23-62528cf19c8e>\u001b[0m in \u001b[0;36m<module>\u001b[0;34m()\u001b[0m\n\u001b[1;32m      1\u001b[0m \u001b[0;31m# myself test\u001b[0m\u001b[0;34m\u001b[0m\u001b[0;34m\u001b[0m\u001b[0;34m\u001b[0m\u001b[0m\n\u001b[1;32m      2\u001b[0m \u001b[0;34m\u001b[0m\u001b[0m\n\u001b[0;32m----> 3\u001b[0;31m \u001b[0ma\u001b[0m\u001b[0;34m[\u001b[0m\u001b[0;36m1\u001b[0m\u001b[0;34m,\u001b[0m \u001b[0;36m2\u001b[0m\u001b[0;34m,\u001b[0m \u001b[0;36m3\u001b[0m\u001b[0;34m]\u001b[0m\u001b[0;34m\u001b[0m\u001b[0;34m\u001b[0m\u001b[0m\n\u001b[0m\u001b[1;32m      4\u001b[0m \u001b[0mb\u001b[0m \u001b[0;34m=\u001b[0m \u001b[0ma\u001b[0m\u001b[0;34m\u001b[0m\u001b[0;34m\u001b[0m\u001b[0m\n",
            "\u001b[0;31mNameError\u001b[0m: name 'a' is not defined"
          ]
        }
      ]
    },
    {
      "cell_type": "code",
      "metadata": {
        "colab": {
          "base_uri": "https://localhost:8080/"
        },
        "id": "xUWZk0JEjR7a",
        "outputId": "20e37f22-1911-4d4d-918a-2cd785118424"
      },
      "source": [
        "# myself\n",
        "\n",
        "a = [1, 2, 3]\n",
        "b = a\n",
        "b"
      ],
      "execution_count": null,
      "outputs": [
        {
          "output_type": "execute_result",
          "data": {
            "text/plain": [
              "[1, 2, 3]"
            ]
          },
          "metadata": {
            "tags": []
          },
          "execution_count": 25
        }
      ]
    },
    {
      "cell_type": "code",
      "metadata": {
        "colab": {
          "base_uri": "https://localhost:8080/"
        },
        "id": "dw0DAzUgjY4w",
        "outputId": "c70bd2e5-b379-4c39-87d4-d851fffd24eb"
      },
      "source": [
        "# answer\n",
        "\n",
        "#!/usr/bin/python\n",
        "# -*- coding: UTF-8 -*-\n",
        " \n",
        "a = [1, 2, 3]\n",
        "b = a[:]\n",
        "print (b)"
      ],
      "execution_count": null,
      "outputs": [
        {
          "output_type": "stream",
          "text": [
            "[1, 2, 3]\n"
          ],
          "name": "stdout"
        }
      ]
    },
    {
      "cell_type": "markdown",
      "metadata": {
        "id": "4Vi-pwFwjjYt"
      },
      "source": [
        "Python 练习实例8\n",
        "```\n",
        "题目：输出 9*9 乘法口诀表。\n",
        "```"
      ]
    },
    {
      "cell_type": "code",
      "metadata": {
        "colab": {
          "base_uri": "https://localhost:8080/",
          "height": 199
        },
        "id": "jcGEZJIdji95",
        "outputId": "47046485-4dd4-4996-f9f3-0c426424e4ca"
      },
      "source": [
        "# myself test\n",
        "\n",
        "for i in range(1, 10):\n",
        "  for j in range(1, 10):\n",
        "    print(\"%d * %d = %d\" %i, j, i*j)"
      ],
      "execution_count": null,
      "outputs": [
        {
          "output_type": "error",
          "ename": "TypeError",
          "evalue": "ignored",
          "traceback": [
            "\u001b[0;31m---------------------------------------------------------------------------\u001b[0m",
            "\u001b[0;31mTypeError\u001b[0m                                 Traceback (most recent call last)",
            "\u001b[0;32m<ipython-input-27-950f0ccdfdda>\u001b[0m in \u001b[0;36m<module>\u001b[0;34m()\u001b[0m\n\u001b[1;32m      3\u001b[0m \u001b[0;32mfor\u001b[0m \u001b[0mi\u001b[0m \u001b[0;32min\u001b[0m \u001b[0mrange\u001b[0m\u001b[0;34m(\u001b[0m\u001b[0;36m1\u001b[0m\u001b[0;34m,\u001b[0m \u001b[0;36m10\u001b[0m\u001b[0;34m)\u001b[0m\u001b[0;34m:\u001b[0m\u001b[0;34m\u001b[0m\u001b[0;34m\u001b[0m\u001b[0m\n\u001b[1;32m      4\u001b[0m   \u001b[0;32mfor\u001b[0m \u001b[0mj\u001b[0m \u001b[0;32min\u001b[0m \u001b[0mrange\u001b[0m\u001b[0;34m(\u001b[0m\u001b[0;36m1\u001b[0m\u001b[0;34m,\u001b[0m \u001b[0;36m10\u001b[0m\u001b[0;34m)\u001b[0m\u001b[0;34m:\u001b[0m\u001b[0;34m\u001b[0m\u001b[0;34m\u001b[0m\u001b[0m\n\u001b[0;32m----> 5\u001b[0;31m     \u001b[0mprint\u001b[0m\u001b[0;34m(\u001b[0m\u001b[0;34m\"%d * %d = %d\"\u001b[0m \u001b[0;34m%\u001b[0m\u001b[0mi\u001b[0m\u001b[0;34m,\u001b[0m \u001b[0mj\u001b[0m\u001b[0;34m,\u001b[0m \u001b[0mi\u001b[0m\u001b[0;34m*\u001b[0m\u001b[0mj\u001b[0m\u001b[0;34m)\u001b[0m\u001b[0;34m\u001b[0m\u001b[0;34m\u001b[0m\u001b[0m\n\u001b[0m",
            "\u001b[0;31mTypeError\u001b[0m: not enough arguments for format string"
          ]
        }
      ]
    },
    {
      "cell_type": "code",
      "metadata": {
        "colab": {
          "base_uri": "https://localhost:8080/",
          "height": 199
        },
        "id": "0uwlCKijkJc1",
        "outputId": "b9809e53-177c-44e3-cc3a-6f4e14a7445b"
      },
      "source": [
        "# myself test\n",
        "\n",
        "for i in range(1, 10):\n",
        "  for j in range(1, 10):\n",
        "    print(\"%d * %d = %d\" %i %j %i*j)"
      ],
      "execution_count": null,
      "outputs": [
        {
          "output_type": "error",
          "ename": "TypeError",
          "evalue": "ignored",
          "traceback": [
            "\u001b[0;31m---------------------------------------------------------------------------\u001b[0m",
            "\u001b[0;31mTypeError\u001b[0m                                 Traceback (most recent call last)",
            "\u001b[0;32m<ipython-input-28-719e4743e2d5>\u001b[0m in \u001b[0;36m<module>\u001b[0;34m()\u001b[0m\n\u001b[1;32m      3\u001b[0m \u001b[0;32mfor\u001b[0m \u001b[0mi\u001b[0m \u001b[0;32min\u001b[0m \u001b[0mrange\u001b[0m\u001b[0;34m(\u001b[0m\u001b[0;36m1\u001b[0m\u001b[0;34m,\u001b[0m \u001b[0;36m10\u001b[0m\u001b[0;34m)\u001b[0m\u001b[0;34m:\u001b[0m\u001b[0;34m\u001b[0m\u001b[0;34m\u001b[0m\u001b[0m\n\u001b[1;32m      4\u001b[0m   \u001b[0;32mfor\u001b[0m \u001b[0mj\u001b[0m \u001b[0;32min\u001b[0m \u001b[0mrange\u001b[0m\u001b[0;34m(\u001b[0m\u001b[0;36m1\u001b[0m\u001b[0;34m,\u001b[0m \u001b[0;36m10\u001b[0m\u001b[0;34m)\u001b[0m\u001b[0;34m:\u001b[0m\u001b[0;34m\u001b[0m\u001b[0;34m\u001b[0m\u001b[0m\n\u001b[0;32m----> 5\u001b[0;31m     \u001b[0mprint\u001b[0m\u001b[0;34m(\u001b[0m\u001b[0;34m\"%d * %d = %d\"\u001b[0m \u001b[0;34m%\u001b[0m\u001b[0mi\u001b[0m \u001b[0;34m%\u001b[0m\u001b[0mj\u001b[0m \u001b[0;34m%\u001b[0m\u001b[0mi\u001b[0m\u001b[0;34m*\u001b[0m\u001b[0mj\u001b[0m\u001b[0;34m)\u001b[0m\u001b[0;34m\u001b[0m\u001b[0;34m\u001b[0m\u001b[0m\n\u001b[0m",
            "\u001b[0;31mTypeError\u001b[0m: not enough arguments for format string"
          ]
        }
      ]
    },
    {
      "cell_type": "code",
      "metadata": {
        "colab": {
          "base_uri": "https://localhost:8080/"
        },
        "id": "9hRh50SkkSGk",
        "outputId": "966430ef-646b-4a40-e306-c2f506486f0c"
      },
      "source": [
        "# myself test\n",
        "\n",
        "for i in range(1, 10):\n",
        "  for j in range(1, 10):\n",
        "    print(\"%d * %d = %d\" %(i, j, i*j))"
      ],
      "execution_count": null,
      "outputs": [
        {
          "output_type": "stream",
          "text": [
            "1 * 1 = 1\n",
            "1 * 2 = 2\n",
            "1 * 3 = 3\n",
            "1 * 4 = 4\n",
            "1 * 5 = 5\n",
            "1 * 6 = 6\n",
            "1 * 7 = 7\n",
            "1 * 8 = 8\n",
            "1 * 9 = 9\n",
            "2 * 1 = 2\n",
            "2 * 2 = 4\n",
            "2 * 3 = 6\n",
            "2 * 4 = 8\n",
            "2 * 5 = 10\n",
            "2 * 6 = 12\n",
            "2 * 7 = 14\n",
            "2 * 8 = 16\n",
            "2 * 9 = 18\n",
            "3 * 1 = 3\n",
            "3 * 2 = 6\n",
            "3 * 3 = 9\n",
            "3 * 4 = 12\n",
            "3 * 5 = 15\n",
            "3 * 6 = 18\n",
            "3 * 7 = 21\n",
            "3 * 8 = 24\n",
            "3 * 9 = 27\n",
            "4 * 1 = 4\n",
            "4 * 2 = 8\n",
            "4 * 3 = 12\n",
            "4 * 4 = 16\n",
            "4 * 5 = 20\n",
            "4 * 6 = 24\n",
            "4 * 7 = 28\n",
            "4 * 8 = 32\n",
            "4 * 9 = 36\n",
            "5 * 1 = 5\n",
            "5 * 2 = 10\n",
            "5 * 3 = 15\n",
            "5 * 4 = 20\n",
            "5 * 5 = 25\n",
            "5 * 6 = 30\n",
            "5 * 7 = 35\n",
            "5 * 8 = 40\n",
            "5 * 9 = 45\n",
            "6 * 1 = 6\n",
            "6 * 2 = 12\n",
            "6 * 3 = 18\n",
            "6 * 4 = 24\n",
            "6 * 5 = 30\n",
            "6 * 6 = 36\n",
            "6 * 7 = 42\n",
            "6 * 8 = 48\n",
            "6 * 9 = 54\n",
            "7 * 1 = 7\n",
            "7 * 2 = 14\n",
            "7 * 3 = 21\n",
            "7 * 4 = 28\n",
            "7 * 5 = 35\n",
            "7 * 6 = 42\n",
            "7 * 7 = 49\n",
            "7 * 8 = 56\n",
            "7 * 9 = 63\n",
            "8 * 1 = 8\n",
            "8 * 2 = 16\n",
            "8 * 3 = 24\n",
            "8 * 4 = 32\n",
            "8 * 5 = 40\n",
            "8 * 6 = 48\n",
            "8 * 7 = 56\n",
            "8 * 8 = 64\n",
            "8 * 9 = 72\n",
            "9 * 1 = 9\n",
            "9 * 2 = 18\n",
            "9 * 3 = 27\n",
            "9 * 4 = 36\n",
            "9 * 5 = 45\n",
            "9 * 6 = 54\n",
            "9 * 7 = 63\n",
            "9 * 8 = 72\n",
            "9 * 9 = 81\n"
          ],
          "name": "stdout"
        }
      ]
    },
    {
      "cell_type": "code",
      "metadata": {
        "colab": {
          "base_uri": "https://localhost:8080/"
        },
        "id": "njE-oxgTkeBH",
        "outputId": "c00b241e-2cf9-4984-f102-a9f7e43e2af1"
      },
      "source": [
        "# myself test\n",
        "\n",
        "for i in range(1, 10):\n",
        "  for j in range(1, 10):\n",
        "    print(\"%d * %d = %d\" %(i, j, i*j), end=\"\")"
      ],
      "execution_count": null,
      "outputs": [
        {
          "output_type": "stream",
          "text": [
            "1 * 1 = 11 * 2 = 21 * 3 = 31 * 4 = 41 * 5 = 51 * 6 = 61 * 7 = 71 * 8 = 81 * 9 = 92 * 1 = 22 * 2 = 42 * 3 = 62 * 4 = 82 * 5 = 102 * 6 = 122 * 7 = 142 * 8 = 162 * 9 = 183 * 1 = 33 * 2 = 63 * 3 = 93 * 4 = 123 * 5 = 153 * 6 = 183 * 7 = 213 * 8 = 243 * 9 = 274 * 1 = 44 * 2 = 84 * 3 = 124 * 4 = 164 * 5 = 204 * 6 = 244 * 7 = 284 * 8 = 324 * 9 = 365 * 1 = 55 * 2 = 105 * 3 = 155 * 4 = 205 * 5 = 255 * 6 = 305 * 7 = 355 * 8 = 405 * 9 = 456 * 1 = 66 * 2 = 126 * 3 = 186 * 4 = 246 * 5 = 306 * 6 = 366 * 7 = 426 * 8 = 486 * 9 = 547 * 1 = 77 * 2 = 147 * 3 = 217 * 4 = 287 * 5 = 357 * 6 = 427 * 7 = 497 * 8 = 567 * 9 = 638 * 1 = 88 * 2 = 168 * 3 = 248 * 4 = 328 * 5 = 408 * 6 = 488 * 7 = 568 * 8 = 648 * 9 = 729 * 1 = 99 * 2 = 189 * 3 = 279 * 4 = 369 * 5 = 459 * 6 = 549 * 7 = 639 * 8 = 729 * 9 = 81"
          ],
          "name": "stdout"
        }
      ]
    },
    {
      "cell_type": "code",
      "metadata": {
        "colab": {
          "base_uri": "https://localhost:8080/",
          "height": 131
        },
        "id": "4xQnRF-Dkl1L",
        "outputId": "2a59bb92-f1a2-46a7-92c5-3d33d2ca6c87"
      },
      "source": [
        "# myself test\n",
        "\n",
        "for i in range(1, 10):\n",
        "  for j in range(1, 10):\n",
        "    print(\"%d * %d = %d\" %(j, i, i*j), end=\"\")\n",
        "  print(\\n)"
      ],
      "execution_count": null,
      "outputs": [
        {
          "output_type": "error",
          "ename": "SyntaxError",
          "evalue": "ignored",
          "traceback": [
            "\u001b[0;36m  File \u001b[0;32m\"<ipython-input-38-23ea5aef51db>\"\u001b[0;36m, line \u001b[0;32m6\u001b[0m\n\u001b[0;31m    print(\\n)\u001b[0m\n\u001b[0m             ^\u001b[0m\n\u001b[0;31mSyntaxError\u001b[0m\u001b[0;31m:\u001b[0m unexpected character after line continuation character\n"
          ]
        }
      ]
    },
    {
      "cell_type": "code",
      "metadata": {
        "colab": {
          "base_uri": "https://localhost:8080/"
        },
        "id": "sUUD3WrsmVbI",
        "outputId": "2877fefb-77e5-4381-a0cb-17766eb522e3"
      },
      "source": [
        "# myself test\n",
        "\n",
        "for i in range(1, 10):\n",
        "  for j in range(1, 10):\n",
        "    print(\"%d * %d = %d\" %(j, i, i*j), end=\"\")\n",
        "  print(\"\\n\")"
      ],
      "execution_count": null,
      "outputs": [
        {
          "output_type": "stream",
          "text": [
            "1 * 1 = 12 * 1 = 23 * 1 = 34 * 1 = 45 * 1 = 56 * 1 = 67 * 1 = 78 * 1 = 89 * 1 = 9\n",
            "\n",
            "1 * 2 = 22 * 2 = 43 * 2 = 64 * 2 = 85 * 2 = 106 * 2 = 127 * 2 = 148 * 2 = 169 * 2 = 18\n",
            "\n",
            "1 * 3 = 32 * 3 = 63 * 3 = 94 * 3 = 125 * 3 = 156 * 3 = 187 * 3 = 218 * 3 = 249 * 3 = 27\n",
            "\n",
            "1 * 4 = 42 * 4 = 83 * 4 = 124 * 4 = 165 * 4 = 206 * 4 = 247 * 4 = 288 * 4 = 329 * 4 = 36\n",
            "\n",
            "1 * 5 = 52 * 5 = 103 * 5 = 154 * 5 = 205 * 5 = 256 * 5 = 307 * 5 = 358 * 5 = 409 * 5 = 45\n",
            "\n",
            "1 * 6 = 62 * 6 = 123 * 6 = 184 * 6 = 245 * 6 = 306 * 6 = 367 * 6 = 428 * 6 = 489 * 6 = 54\n",
            "\n",
            "1 * 7 = 72 * 7 = 143 * 7 = 214 * 7 = 285 * 7 = 356 * 7 = 427 * 7 = 498 * 7 = 569 * 7 = 63\n",
            "\n",
            "1 * 8 = 82 * 8 = 163 * 8 = 244 * 8 = 325 * 8 = 406 * 8 = 487 * 8 = 568 * 8 = 649 * 8 = 72\n",
            "\n",
            "1 * 9 = 92 * 9 = 183 * 9 = 274 * 9 = 365 * 9 = 456 * 9 = 547 * 9 = 638 * 9 = 729 * 9 = 81\n",
            "\n"
          ],
          "name": "stdout"
        }
      ]
    },
    {
      "cell_type": "code",
      "metadata": {
        "colab": {
          "base_uri": "https://localhost:8080/"
        },
        "id": "H7BFrIqWmlBu",
        "outputId": "630175af-899c-46b2-cc20-0b51e3d90348"
      },
      "source": [
        "# myself\n",
        "\n",
        "for i in range(1, 10):\n",
        "  for j in range(1, 10):\n",
        "    print(\"%d * %d = %2d \" %(j, i, (i*j)), end=\"\")\n",
        "  print(\"\\n\")"
      ],
      "execution_count": null,
      "outputs": [
        {
          "output_type": "stream",
          "text": [
            "1 * 1 =  1 2 * 1 =  2 3 * 1 =  3 4 * 1 =  4 5 * 1 =  5 6 * 1 =  6 7 * 1 =  7 8 * 1 =  8 9 * 1 =  9 \n",
            "\n",
            "1 * 2 =  2 2 * 2 =  4 3 * 2 =  6 4 * 2 =  8 5 * 2 = 10 6 * 2 = 12 7 * 2 = 14 8 * 2 = 16 9 * 2 = 18 \n",
            "\n",
            "1 * 3 =  3 2 * 3 =  6 3 * 3 =  9 4 * 3 = 12 5 * 3 = 15 6 * 3 = 18 7 * 3 = 21 8 * 3 = 24 9 * 3 = 27 \n",
            "\n",
            "1 * 4 =  4 2 * 4 =  8 3 * 4 = 12 4 * 4 = 16 5 * 4 = 20 6 * 4 = 24 7 * 4 = 28 8 * 4 = 32 9 * 4 = 36 \n",
            "\n",
            "1 * 5 =  5 2 * 5 = 10 3 * 5 = 15 4 * 5 = 20 5 * 5 = 25 6 * 5 = 30 7 * 5 = 35 8 * 5 = 40 9 * 5 = 45 \n",
            "\n",
            "1 * 6 =  6 2 * 6 = 12 3 * 6 = 18 4 * 6 = 24 5 * 6 = 30 6 * 6 = 36 7 * 6 = 42 8 * 6 = 48 9 * 6 = 54 \n",
            "\n",
            "1 * 7 =  7 2 * 7 = 14 3 * 7 = 21 4 * 7 = 28 5 * 7 = 35 6 * 7 = 42 7 * 7 = 49 8 * 7 = 56 9 * 7 = 63 \n",
            "\n",
            "1 * 8 =  8 2 * 8 = 16 3 * 8 = 24 4 * 8 = 32 5 * 8 = 40 6 * 8 = 48 7 * 8 = 56 8 * 8 = 64 9 * 8 = 72 \n",
            "\n",
            "1 * 9 =  9 2 * 9 = 18 3 * 9 = 27 4 * 9 = 36 5 * 9 = 45 6 * 9 = 54 7 * 9 = 63 8 * 9 = 72 9 * 9 = 81 \n",
            "\n"
          ],
          "name": "stdout"
        }
      ]
    },
    {
      "cell_type": "code",
      "metadata": {
        "colab": {
          "base_uri": "https://localhost:8080/"
        },
        "id": "BCBLXL1LnfjG",
        "outputId": "9bee2c2c-1558-4a5f-ee33-d90b3c93b2b1"
      },
      "source": [
        "# myself\n",
        "\n",
        "for i in range(1, 10):\n",
        "  for j in range(1, 10):\n",
        "    print(\"%d * %d = %2d \" %(j, i, (i*j)), end=\" \")\n",
        "  print()"
      ],
      "execution_count": null,
      "outputs": [
        {
          "output_type": "stream",
          "text": [
            "1 * 1 =  1  2 * 1 =  2  3 * 1 =  3  4 * 1 =  4  5 * 1 =  5  6 * 1 =  6  7 * 1 =  7  8 * 1 =  8  9 * 1 =  9  \n",
            "1 * 2 =  2  2 * 2 =  4  3 * 2 =  6  4 * 2 =  8  5 * 2 = 10  6 * 2 = 12  7 * 2 = 14  8 * 2 = 16  9 * 2 = 18  \n",
            "1 * 3 =  3  2 * 3 =  6  3 * 3 =  9  4 * 3 = 12  5 * 3 = 15  6 * 3 = 18  7 * 3 = 21  8 * 3 = 24  9 * 3 = 27  \n",
            "1 * 4 =  4  2 * 4 =  8  3 * 4 = 12  4 * 4 = 16  5 * 4 = 20  6 * 4 = 24  7 * 4 = 28  8 * 4 = 32  9 * 4 = 36  \n",
            "1 * 5 =  5  2 * 5 = 10  3 * 5 = 15  4 * 5 = 20  5 * 5 = 25  6 * 5 = 30  7 * 5 = 35  8 * 5 = 40  9 * 5 = 45  \n",
            "1 * 6 =  6  2 * 6 = 12  3 * 6 = 18  4 * 6 = 24  5 * 6 = 30  6 * 6 = 36  7 * 6 = 42  8 * 6 = 48  9 * 6 = 54  \n",
            "1 * 7 =  7  2 * 7 = 14  3 * 7 = 21  4 * 7 = 28  5 * 7 = 35  6 * 7 = 42  7 * 7 = 49  8 * 7 = 56  9 * 7 = 63  \n",
            "1 * 8 =  8  2 * 8 = 16  3 * 8 = 24  4 * 8 = 32  5 * 8 = 40  6 * 8 = 48  7 * 8 = 56  8 * 8 = 64  9 * 8 = 72  \n",
            "1 * 9 =  9  2 * 9 = 18  3 * 9 = 27  4 * 9 = 36  5 * 9 = 45  6 * 9 = 54  7 * 9 = 63  8 * 9 = 72  9 * 9 = 81  \n"
          ],
          "name": "stdout"
        }
      ]
    },
    {
      "cell_type": "code",
      "metadata": {
        "colab": {
          "base_uri": "https://localhost:8080/"
        },
        "id": "mBFgKvL0n17B",
        "outputId": "930fb430-9e64-4363-cba0-91c55ddfa92c"
      },
      "source": [
        "# answer\n",
        "\n",
        "#!/usr/bin/python3\n",
        " \n",
        "for i in range(1, 10):\n",
        "    print() \n",
        "    for j in range(1, i+1):\n",
        "        print (\"%d*%d=%d\" % (i, j, i*j), end=\" \" )"
      ],
      "execution_count": null,
      "outputs": [
        {
          "output_type": "stream",
          "text": [
            "\n",
            "1*1=1 \n",
            "2*1=2 2*2=4 \n",
            "3*1=3 3*2=6 3*3=9 \n",
            "4*1=4 4*2=8 4*3=12 4*4=16 \n",
            "5*1=5 5*2=10 5*3=15 5*4=20 5*5=25 \n",
            "6*1=6 6*2=12 6*3=18 6*4=24 6*5=30 6*6=36 \n",
            "7*1=7 7*2=14 7*3=21 7*4=28 7*5=35 7*6=42 7*7=49 \n",
            "8*1=8 8*2=16 8*3=24 8*4=32 8*5=40 8*6=48 8*7=56 8*8=64 \n",
            "9*1=9 9*2=18 9*3=27 9*4=36 9*5=45 9*6=54 9*7=63 9*8=72 9*9=81 "
          ],
          "name": "stdout"
        }
      ]
    },
    {
      "cell_type": "markdown",
      "metadata": {
        "id": "VC_zLCWFr21t"
      },
      "source": [
        "Python 练习实例9\n",
        "```\n",
        "题目：暂停一秒输出。\n",
        "```"
      ]
    },
    {
      "cell_type": "code",
      "metadata": {
        "colab": {
          "base_uri": "https://localhost:8080/"
        },
        "id": "P5zoFu_8r8Wu",
        "outputId": "047493e1-93b4-47fc-e93e-56fb800d941f"
      },
      "source": [
        "# myself\n",
        "\n",
        "import time\n",
        "\n",
        "a = input()\n",
        "time.sleep(1)\n",
        "print(a)"
      ],
      "execution_count": null,
      "outputs": [
        {
          "output_type": "stream",
          "text": [
            "123\n",
            "123\n"
          ],
          "name": "stdout"
        }
      ]
    },
    {
      "cell_type": "code",
      "metadata": {
        "colab": {
          "base_uri": "https://localhost:8080/"
        },
        "id": "yMwBW4G_stEc",
        "outputId": "ef628864-00c6-4308-f829-f24ec8da45e8"
      },
      "source": [
        "# answer\n",
        "\n",
        "#!/usr/bin/python\n",
        "# -*- coding: UTF-8 -*-\n",
        " \n",
        "import time\n",
        " \n",
        "myD = {1: 'a', 2: 'b'}\n",
        "for key, value in dict.items(myD):\n",
        "    print (key, value)\n",
        "    time.sleep(1) # 暂停 1 秒"
      ],
      "execution_count": null,
      "outputs": [
        {
          "output_type": "stream",
          "text": [
            "1 a\n",
            "2 b\n"
          ],
          "name": "stdout"
        }
      ]
    },
    {
      "cell_type": "markdown",
      "metadata": {
        "id": "xlbdrVqjtNd6"
      },
      "source": [
        "Python 练习实例10\n",
        "```\n",
        "题目：暂停一秒输出，并格式化当前时间。\n",
        "```"
      ]
    },
    {
      "cell_type": "code",
      "metadata": {
        "colab": {
          "base_uri": "https://localhost:8080/",
          "height": 131
        },
        "id": "5Em__1V8tTGU",
        "outputId": "6b4e3ef8-9181-404e-c52f-9bdb97778190"
      },
      "source": [
        "# myself test\n",
        "\n",
        "import time\n",
        "\n",
        "print(time.strftime(%Y %m %d %H %M %S ,time.localtime()))\n",
        "time.sleep(1)"
      ],
      "execution_count": null,
      "outputs": [
        {
          "output_type": "error",
          "ename": "SyntaxError",
          "evalue": "ignored",
          "traceback": [
            "\u001b[0;36m  File \u001b[0;32m\"<ipython-input-57-1f75e44bbf24>\"\u001b[0;36m, line \u001b[0;32m5\u001b[0m\n\u001b[0;31m    print(time.strftime(%Y %m %d %H %M %S ,time.localtime()))\u001b[0m\n\u001b[0m                        ^\u001b[0m\n\u001b[0;31mSyntaxError\u001b[0m\u001b[0;31m:\u001b[0m invalid syntax\n"
          ]
        }
      ]
    },
    {
      "cell_type": "code",
      "metadata": {
        "colab": {
          "base_uri": "https://localhost:8080/"
        },
        "id": "YQhdfpDQvHq7",
        "outputId": "9682e498-4467-46ff-df56-43f131cea780"
      },
      "source": [
        "# myself\n",
        "\n",
        "import time\n",
        "\n",
        "time.sleep(1)\n",
        "print(time.strftime(\"%Y-%m-%d %H:%M:%S\",time.localtime()))"
      ],
      "execution_count": null,
      "outputs": [
        {
          "output_type": "stream",
          "text": [
            "2020-12-08 05:08:37\n"
          ],
          "name": "stdout"
        }
      ]
    },
    {
      "cell_type": "code",
      "metadata": {
        "colab": {
          "base_uri": "https://localhost:8080/"
        },
        "id": "pedhPrbAv_Vn",
        "outputId": "7e59c621-aec2-480e-e4c8-7f477b8023aa"
      },
      "source": [
        "# answer\n",
        "\n",
        "#!/usr/bin/python\n",
        "# -*- coding: UTF-8 -*-\n",
        "import time\n",
        " \n",
        "print (time.strftime('%Y-%m-%d %H:%M:%S',time.localtime(time.time())))\n",
        " \n",
        "# 暂停一秒\n",
        "time.sleep(1)\n",
        " \n",
        "print (time.strftime('%Y-%m-%d %H:%M:%S',time.localtime(time.time())))"
      ],
      "execution_count": null,
      "outputs": [
        {
          "output_type": "stream",
          "text": [
            "2020-12-08 05:08:43\n",
            "2020-12-08 05:08:44\n"
          ],
          "name": "stdout"
        }
      ]
    }
  ]
}